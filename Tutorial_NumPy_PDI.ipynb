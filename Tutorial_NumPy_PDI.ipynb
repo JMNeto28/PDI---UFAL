{
  "nbformat": 4,
  "nbformat_minor": 0,
  "metadata": {
    "colab": {
      "name": "Tutorial_NumPy_PDI.ipynb",
      "provenance": [],
      "collapsed_sections": [
        "H_E0Oq3Dwp_F",
        "9ZYMARo3wx-h",
        "epL7WJ4Zw_Hm",
        "92NzQJv78l7c",
        "IPyXiAml-wzZ",
        "WndXS6T3D2re",
        "P3A_7iWjHxOF",
        "n0G5PAjSH4v-",
        "HPAzgZ7PSlWk",
        "qLOX5HW_Xle_",
        "Rcy3oocBbyBm"
      ]
    },
    "kernelspec": {
      "name": "python3",
      "display_name": "Python 3"
    },
    "language_info": {
      "name": "python"
    }
  },
  "cells": [
    {
      "cell_type": "markdown",
      "source": [
        "Universidade Federal de Alagoas\n",
        "\n",
        "Instituto de Computação - IC\n",
        "\n",
        "Processamento Digital de Imagens - PDI\n",
        "\n",
        "Professor: Thiago Vieira\n",
        "\n",
        "Alunos: João da Silva Muniz Neto"
      ],
      "metadata": {
        "id": "BWdr0s7jjRwu"
      }
    },
    {
      "cell_type": "code",
      "source": [
        "import numpy as ny"
      ],
      "metadata": {
        "id": "B9U3LmgNjant"
      },
      "execution_count": 2,
      "outputs": []
    },
    {
      "cell_type": "markdown",
      "source": [
        "# ***NumPy Array***"
      ],
      "metadata": {
        "id": "H_E0Oq3Dwp_F"
      }
    },
    {
      "cell_type": "markdown",
      "source": [
        "How to create an empty and a full NumPy array?"
      ],
      "metadata": {
        "id": "bhhv5m6-iAkR"
      }
    },
    {
      "cell_type": "code",
      "source": [
        "y = ny.empty(0)\n",
        "print(y)\n",
        "print(\"---------------\")\n",
        "y = ny.full(shape=(3,4), fill_value=6)\n",
        "print(y)"
      ],
      "metadata": {
        "colab": {
          "base_uri": "https://localhost:8080/"
        },
        "id": "tz0GQuINjdr1",
        "outputId": "b297a309-d5a8-4794-e000-47889488eacc"
      },
      "execution_count": null,
      "outputs": [
        {
          "output_type": "stream",
          "name": "stdout",
          "text": [
            "[]\n",
            "---------------\n",
            "[[6 6 6 6]\n",
            " [6 6 6 6]\n",
            " [6 6 6 6]]\n"
          ]
        }
      ]
    },
    {
      "cell_type": "markdown",
      "source": [
        "Create a Numpy array filled with all zeros"
      ],
      "metadata": {
        "id": "Ih_xETgliE6F"
      }
    },
    {
      "cell_type": "code",
      "source": [
        "y = ny.zeros((4,3))\n",
        "print(y)"
      ],
      "metadata": {
        "colab": {
          "base_uri": "https://localhost:8080/"
        },
        "id": "8wG7e4a2j8kQ",
        "outputId": "e34c2a18-f409-4d16-90f4-8193ca1be1da"
      },
      "execution_count": null,
      "outputs": [
        {
          "output_type": "stream",
          "name": "stdout",
          "text": [
            "[[0. 0. 0.]\n",
            " [0. 0. 0.]\n",
            " [0. 0. 0.]\n",
            " [0. 0. 0.]]\n"
          ]
        }
      ]
    },
    {
      "cell_type": "markdown",
      "source": [
        "Create a Numpy array filled with all ones"
      ],
      "metadata": {
        "id": "kWNfjoM9iE8j"
      }
    },
    {
      "cell_type": "code",
      "source": [
        "y = ny.ones((4,3))\n",
        "print(y)"
      ],
      "metadata": {
        "colab": {
          "base_uri": "https://localhost:8080/"
        },
        "id": "IBpYEBpBkEyW",
        "outputId": "8db37827-8f0d-4688-ec5b-a41f94201514"
      },
      "execution_count": null,
      "outputs": [
        {
          "output_type": "stream",
          "name": "stdout",
          "text": [
            "[[1. 1. 1.]\n",
            " [1. 1. 1.]\n",
            " [1. 1. 1.]\n",
            " [1. 1. 1.]]\n"
          ]
        }
      ]
    },
    {
      "cell_type": "markdown",
      "source": [
        "Check whether a Numpy array contains a specified row"
      ],
      "metadata": {
        "id": "r-sm70J1iE_B"
      }
    },
    {
      "cell_type": "code",
      "source": [
        "\n",
        "[1, 1, 1] in y.tolist()\n"
      ],
      "metadata": {
        "colab": {
          "base_uri": "https://localhost:8080/"
        },
        "id": "7qoXo453ka5m",
        "outputId": "6151e467-b9b3-4781-8712-0bc4782f5094"
      },
      "execution_count": null,
      "outputs": [
        {
          "output_type": "execute_result",
          "data": {
            "text/plain": [
              "True"
            ]
          },
          "metadata": {},
          "execution_count": 28
        }
      ]
    },
    {
      "cell_type": "markdown",
      "source": [
        "How to Remove rows in Numpy array that contains non-numeric values?"
      ],
      "metadata": {
        "id": "XjQT-vkniFBe"
      }
    },
    {
      "cell_type": "code",
      "source": [
        "y = ny.array([[11, 2.5, 8],\n",
        "                  [4.1, ny.nan, ny.nan]])\n",
        "\n",
        "print(y[~ny.isnan(y).any(axis=1)])"
      ],
      "metadata": {
        "colab": {
          "base_uri": "https://localhost:8080/"
        },
        "id": "5iFj5cCDkjQI",
        "outputId": "013b2ad1-fb5b-401b-bbcb-ee08e84fd802"
      },
      "execution_count": null,
      "outputs": [
        {
          "output_type": "stream",
          "name": "stdout",
          "text": [
            "[[11.   2.5  8. ]]\n"
          ]
        }
      ]
    },
    {
      "cell_type": "markdown",
      "source": [
        "Remove single-dimensional entries from the shape of an array"
      ],
      "metadata": {
        "id": "WWpgdNc5iFDy"
      }
    },
    {
      "cell_type": "code",
      "source": [
        "\n",
        "y = ny.zeros((6, 2, 1))\n",
        "print(ny.squeeze(y).shape)"
      ],
      "metadata": {
        "colab": {
          "base_uri": "https://localhost:8080/"
        },
        "id": "AUKGZavSnI13",
        "outputId": "5d6f0c0d-2b2f-4f87-9329-f634a3c5e46a"
      },
      "execution_count": null,
      "outputs": [
        {
          "output_type": "stream",
          "name": "stdout",
          "text": [
            "(6, 2)\n"
          ]
        }
      ]
    },
    {
      "cell_type": "markdown",
      "source": [
        "Find the number of occurrences of a sequence in a NumPy array"
      ],
      "metadata": {
        "id": "noOMATSQiFGD"
      }
    },
    {
      "cell_type": "code",
      "source": [
        "y = ny.array([[6, 23, 1, 3], \n",
        "                   [4, 4, 7, 4],\n",
        "                   [1, 2, 3, 7],\n",
        "                   [6, 9, 8, 3]])\n",
        "  \n",
        "\n",
        "repr(y).count(\"6, 4\")\n",
        "  \n"
      ],
      "metadata": {
        "colab": {
          "base_uri": "https://localhost:8080/"
        },
        "id": "yDXyqfz4ndVZ",
        "outputId": "ac1cb1a0-840c-42bc-e9f3-185ba0b2bc50"
      },
      "execution_count": null,
      "outputs": [
        {
          "output_type": "execute_result",
          "data": {
            "text/plain": [
              "0"
            ]
          },
          "metadata": {},
          "execution_count": 36
        }
      ]
    },
    {
      "cell_type": "markdown",
      "source": [
        "Find the most frequent value in a NumPy array"
      ],
      "metadata": {
        "id": "zkhV1okdiFIf"
      }
    },
    {
      "cell_type": "code",
      "source": [
        "y = ny.array([4,4,4,4,5,1,2,2,1,1])\n",
        "print(ny.bincount(y).argmax())"
      ],
      "metadata": {
        "colab": {
          "base_uri": "https://localhost:8080/"
        },
        "id": "P0vLXhHcoGKj",
        "outputId": "14762d1e-dbf8-4ba6-e04a-755884f1cb51"
      },
      "execution_count": null,
      "outputs": [
        {
          "output_type": "stream",
          "name": "stdout",
          "text": [
            "4\n"
          ]
        }
      ]
    },
    {
      "cell_type": "markdown",
      "source": [
        "Combining a one and a two-dimensional NumPy Array"
      ],
      "metadata": {
        "id": "MgCxCA-8iFK0"
      }
    },
    {
      "cell_type": "code",
      "source": [
        "y1d = ny.arange(5)\n",
        "  \n",
        "y2d = ny.arange(10).reshape(2,5)\n",
        "  \n",
        "\n",
        "for a, b in ny.nditer([y1d, y2d]):\n",
        "    print(\"%d:%d\" % (a, b),)"
      ],
      "metadata": {
        "colab": {
          "base_uri": "https://localhost:8080/"
        },
        "id": "HIvviJjioGq9",
        "outputId": "9ad9e23f-6325-4a78-a470-52507e4af68e"
      },
      "execution_count": null,
      "outputs": [
        {
          "output_type": "stream",
          "name": "stdout",
          "text": [
            "0:0\n",
            "1:1\n",
            "2:2\n",
            "3:3\n",
            "4:4\n",
            "0:5\n",
            "1:6\n",
            "2:7\n",
            "3:8\n",
            "4:9\n"
          ]
        }
      ]
    },
    {
      "cell_type": "markdown",
      "source": [
        "How to build an array of all combinations of two NumPy arrays?"
      ],
      "metadata": {
        "id": "j9sNVvv5iFNC"
      }
    },
    {
      "cell_type": "code",
      "source": [
        "\n",
        "y1 = ny.array([6, 3])\n",
        "y2 = ny.array([2, 1])\n",
        "\n",
        "y = ny.array(ny.meshgrid(y1, y2)).T.reshape(-1, 2)\n",
        "  \n",
        "print(y)"
      ],
      "metadata": {
        "colab": {
          "base_uri": "https://localhost:8080/"
        },
        "id": "zMQlY7uWoHLr",
        "outputId": "88fcc626-bb7d-42e3-c96d-96d29c0a5d57"
      },
      "execution_count": null,
      "outputs": [
        {
          "output_type": "stream",
          "name": "stdout",
          "text": [
            "[[6 2]\n",
            " [6 1]\n",
            " [3 2]\n",
            " [3 1]]\n"
          ]
        }
      ]
    },
    {
      "cell_type": "markdown",
      "source": [
        "How to add a border around a NumPy array?"
      ],
      "metadata": {
        "id": "gYDZ4Fa4iFPR"
      }
    },
    {
      "cell_type": "code",
      "source": [
        "y = ny.ones((4, 4))\n",
        "\n",
        "y = ny.pad(y, pad_width=1, mode='constant',\n",
        "               constant_values=0)\n",
        "  \n",
        "print(y)"
      ],
      "metadata": {
        "colab": {
          "base_uri": "https://localhost:8080/"
        },
        "id": "0JsouHRbpM9K",
        "outputId": "9eba9653-75f4-4a22-aebb-02877a5d05f2"
      },
      "execution_count": null,
      "outputs": [
        {
          "output_type": "stream",
          "name": "stdout",
          "text": [
            "[[0. 0. 0. 0. 0. 0.]\n",
            " [0. 1. 1. 1. 1. 0.]\n",
            " [0. 1. 1. 1. 1. 0.]\n",
            " [0. 1. 1. 1. 1. 0.]\n",
            " [0. 1. 1. 1. 1. 0.]\n",
            " [0. 0. 0. 0. 0. 0.]]\n"
          ]
        }
      ]
    },
    {
      "cell_type": "markdown",
      "source": [
        "How to compare two NumPy arrays?"
      ],
      "metadata": {
        "id": "yHLZhJkIiFRv"
      }
    },
    {
      "cell_type": "code",
      "source": [
        "y = ny.array([[1, 2], [3, 4]])\n",
        "y2 = ny.array([[1, 2], [3, 4]])\n",
        " \n",
        "comp = y == y2\n",
        "equal = comp.all()\n",
        " \n",
        "print(equal)"
      ],
      "metadata": {
        "colab": {
          "base_uri": "https://localhost:8080/"
        },
        "id": "PVbRuoKhpNgK",
        "outputId": "4b90faac-826d-491b-b5ff-42f8c11bfd3d"
      },
      "execution_count": null,
      "outputs": [
        {
          "output_type": "stream",
          "name": "stdout",
          "text": [
            "True\n"
          ]
        }
      ]
    },
    {
      "cell_type": "markdown",
      "source": [
        "How to check whether specified values are present in NumPy array?"
      ],
      "metadata": {
        "id": "xLbLMspPiFT9"
      }
    },
    {
      "cell_type": "code",
      "source": [
        "y = ny.array([[6, 2, 1],\n",
        "                    [3, 8, 1]])\n",
        "\n",
        "\n",
        "print(3 in y)\n",
        "print(1 in y)\n",
        "print(6 in y)\n",
        "print(89 in y)\n",
        "print(4 in y)"
      ],
      "metadata": {
        "colab": {
          "base_uri": "https://localhost:8080/"
        },
        "id": "X0l6QFIlpN-m",
        "outputId": "90b412fb-a99e-4c3d-dbb6-acf8d6335fbf"
      },
      "execution_count": null,
      "outputs": [
        {
          "output_type": "stream",
          "name": "stdout",
          "text": [
            "True\n",
            "True\n",
            "True\n",
            "False\n",
            "False\n"
          ]
        }
      ]
    },
    {
      "cell_type": "markdown",
      "source": [
        "How to get all 2D diagonals of a 3D NumPy array?"
      ],
      "metadata": {
        "id": "k8z8JfN2iFWW"
      }
    },
    {
      "cell_type": "code",
      "source": [
        "y = ny.arange(3 * 4 * 4).reshape(3, 4, 4)\n",
        "print(\"3d array:\\n\", y)\n",
        "\n",
        "y2 = ny.diagonal(y, \n",
        "                       axis1 = 1,\n",
        "                       axis2 = 2)\n",
        "print(\"2d array:\") \n",
        "print(y2)"
      ],
      "metadata": {
        "colab": {
          "base_uri": "https://localhost:8080/"
        },
        "id": "xYzaQFcSpO48",
        "outputId": "fdf08915-f815-49b8-e604-3432c3897edd"
      },
      "execution_count": null,
      "outputs": [
        {
          "output_type": "stream",
          "name": "stdout",
          "text": [
            "3d array:\n",
            " [[[ 0  1  2  3]\n",
            "  [ 4  5  6  7]\n",
            "  [ 8  9 10 11]\n",
            "  [12 13 14 15]]\n",
            "\n",
            " [[16 17 18 19]\n",
            "  [20 21 22 23]\n",
            "  [24 25 26 27]\n",
            "  [28 29 30 31]]\n",
            "\n",
            " [[32 33 34 35]\n",
            "  [36 37 38 39]\n",
            "  [40 41 42 43]\n",
            "  [44 45 46 47]]]\n",
            "2d array:\n",
            "[[ 0  5 10 15]\n",
            " [16 21 26 31]\n",
            " [32 37 42 47]]\n"
          ]
        }
      ]
    },
    {
      "cell_type": "markdown",
      "source": [
        "Flatten a Matrix in Python using NumPy"
      ],
      "metadata": {
        "id": "HBWuvLcyiklU"
      }
    },
    {
      "cell_type": "code",
      "source": [
        "\n",
        "y = ny.array([[6, 23], [55, 89]])\n",
        "  \n",
        "y2 = y.flatten()\n",
        "print(y2)"
      ],
      "metadata": {
        "colab": {
          "base_uri": "https://localhost:8080/"
        },
        "id": "oDOTu8xsrByO",
        "outputId": "f284b03a-3da1-4dcf-b122-77ba5ef92fe1"
      },
      "execution_count": null,
      "outputs": [
        {
          "output_type": "stream",
          "name": "stdout",
          "text": [
            "[ 6 23 55 89]\n"
          ]
        }
      ]
    },
    {
      "cell_type": "markdown",
      "source": [
        "Flatten a 2d numpy array into 1d array"
      ],
      "metadata": {
        "id": "5nT30h08iks1"
      }
    },
    {
      "cell_type": "code",
      "source": [
        "y = ny.array([[6, 6, 6], [6, 6, 6], [6, 6, 6]])\n",
        "  \n",
        "\n",
        "  \n",
        "\n",
        "yresul = y.flatten()\n",
        "  \n",
        "\n",
        "print(\"Novo array: \", yresul)"
      ],
      "metadata": {
        "colab": {
          "base_uri": "https://localhost:8080/"
        },
        "id": "cyxLrWgOrCT5",
        "outputId": "8dd3554f-34b4-49eb-fba6-e6a79f33a6eb"
      },
      "execution_count": null,
      "outputs": [
        {
          "output_type": "stream",
          "name": "stdout",
          "text": [
            "Novo array:  [6 6 6 6 6 6 6 6 6]\n"
          ]
        }
      ]
    },
    {
      "cell_type": "markdown",
      "source": [
        "Move axes of an array to new positions"
      ],
      "metadata": {
        "id": "KrCihKKmikxg"
      }
    },
    {
      "cell_type": "code",
      "source": [
        "\n",
        "y = ny.zeros((6, 7, 6))\n",
        "print(ny.moveaxis(y, 0, -1).shape)\n",
        "print(ny.moveaxis(y, -1, 0).shape)"
      ],
      "metadata": {
        "colab": {
          "base_uri": "https://localhost:8080/"
        },
        "id": "NK8YbvT4rCpJ",
        "outputId": "0e48082f-f7cc-4fff-dc00-b3b588fd3431"
      },
      "execution_count": null,
      "outputs": [
        {
          "output_type": "stream",
          "name": "stdout",
          "text": [
            "(7, 6, 6)\n",
            "(6, 6, 7)\n"
          ]
        }
      ]
    },
    {
      "cell_type": "markdown",
      "source": [
        "Interchange two axes of an array"
      ],
      "metadata": {
        "id": "l8aJOvxHik15"
      }
    },
    {
      "cell_type": "code",
      "source": [
        "y = ny.array([[6,7,8]])\n",
        "print(y)\n",
        "y2 =  ny.swapaxes(y,0,1)\n",
        "print(y2)"
      ],
      "metadata": {
        "colab": {
          "base_uri": "https://localhost:8080/"
        },
        "id": "RPqqsNdgrDF7",
        "outputId": "fdf662a1-de38-4980-da18-dfcb2eff4e1d"
      },
      "execution_count": null,
      "outputs": [
        {
          "output_type": "stream",
          "name": "stdout",
          "text": [
            "[[6 7 8]]\n",
            "[[6]\n",
            " [7]\n",
            " [8]]\n"
          ]
        }
      ]
    },
    {
      "cell_type": "markdown",
      "source": [
        "NumPy – Fibonacci Series using Binet Formula"
      ],
      "metadata": {
        "id": "re4p8q8Vik6C"
      }
    },
    {
      "cell_type": "code",
      "source": [
        "y = ny.arange(1, 11)\n",
        "lengthY = len(y)\n",
        "  \n",
        "\n",
        "sqrtFive = ny.sqrt(5)\n",
        "alpha = (1 + sqrtFive) / 2\n",
        "beta = (1 - sqrtFive) / 2\n",
        "  \n",
        "\n",
        "Fn = ny.rint(((alpha ** y) - (beta ** y)) / (sqrtFive))\n",
        "print(\"Primeiros {} números de Fibonacci {} .\".format(lengthY, Fn))"
      ],
      "metadata": {
        "colab": {
          "base_uri": "https://localhost:8080/"
        },
        "id": "4Y8WcZ4lrDmR",
        "outputId": "428ca572-7717-4221-dcc1-9388d9be455c"
      },
      "execution_count": null,
      "outputs": [
        {
          "output_type": "stream",
          "name": "stdout",
          "text": [
            "Primeiros 10 números de Fibonacci [ 1.  1.  2.  3.  5.  8. 13. 21. 34. 55.] .\n"
          ]
        }
      ]
    },
    {
      "cell_type": "markdown",
      "source": [
        "Counts the number of non-zero values in the array"
      ],
      "metadata": {
        "id": "rLYXexnDik-R"
      }
    },
    {
      "cell_type": "code",
      "source": [
        "y=ny.array([[1,0,11,0],[4,0,0,0],[32,1,2,0]])\n",
        "\n",
        "ny.count_nonzero(y)\n"
      ],
      "metadata": {
        "colab": {
          "base_uri": "https://localhost:8080/"
        },
        "id": "bD0DnYw5rD67",
        "outputId": "0886fbac-5092-4c21-a4fe-a4092f2c4d73"
      },
      "execution_count": null,
      "outputs": [
        {
          "output_type": "execute_result",
          "data": {
            "text/plain": [
              "6"
            ]
          },
          "metadata": {},
          "execution_count": 85
        }
      ]
    },
    {
      "cell_type": "markdown",
      "source": [
        "Count the number of elements along a given axis"
      ],
      "metadata": {
        "id": "dIKPn1eDilDE"
      }
    },
    {
      "cell_type": "code",
      "source": [
        "y = ny.array([[1, 2, 3, 4, 6], [5, 6, 7, 8, 6]])\n",
        " \n",
        "print(ny.size(y))"
      ],
      "metadata": {
        "colab": {
          "base_uri": "https://localhost:8080/"
        },
        "id": "hISAWiP5rEP7",
        "outputId": "b5eaf4c2-0607-4bc2-f240-33374006d39a"
      },
      "execution_count": null,
      "outputs": [
        {
          "output_type": "stream",
          "name": "stdout",
          "text": [
            "10\n"
          ]
        }
      ]
    },
    {
      "cell_type": "markdown",
      "source": [
        "Trim the leading and/or trailing zeros from a 1-D array"
      ],
      "metadata": {
        "id": "OJoR8N-_i2WG"
      }
    },
    {
      "cell_type": "code",
      "source": [
        "y = ny.array((0, 0, 0, 0, 1, 5, 7, 0, 6, 2, 9, 0, 10, 0, 0))\n",
        "\n",
        "yrest = ny.trim_zeros(y)\n",
        "print(yrest)"
      ],
      "metadata": {
        "colab": {
          "base_uri": "https://localhost:8080/"
        },
        "id": "MyCsLanRrFEw",
        "outputId": "b629a40f-9a52-4e0b-a877-34b74595ec23"
      },
      "execution_count": null,
      "outputs": [
        {
          "output_type": "stream",
          "name": "stdout",
          "text": [
            "[ 1  5  7  0  6  2  9  0 10]\n"
          ]
        }
      ]
    },
    {
      "cell_type": "markdown",
      "source": [
        "Change data type of given numpy array"
      ],
      "metadata": {
        "id": "uO35mifZi2Yw"
      }
    },
    {
      "cell_type": "code",
      "source": [
        "y = ny.array([10, 20, 30, 40, 50])\n",
        "print(y)\n",
        "print(y.dtype)\n",
        "print(\"\\n\")\n",
        "yf = y.astype('float64')\n",
        "print(yf)\n",
        "print(yf.dtype)"
      ],
      "metadata": {
        "colab": {
          "base_uri": "https://localhost:8080/"
        },
        "id": "nNK2tWo5rFXN",
        "outputId": "23a3f3b9-0c24-4b66-8e07-ecdc355cef9e"
      },
      "execution_count": null,
      "outputs": [
        {
          "output_type": "stream",
          "name": "stdout",
          "text": [
            "[10 20 30 40 50]\n",
            "int64\n",
            "\n",
            "\n",
            "[10. 20. 30. 40. 50.]\n",
            "float64\n"
          ]
        }
      ]
    },
    {
      "cell_type": "markdown",
      "source": [
        "Reverse a numpy array"
      ],
      "metadata": {
        "id": "ZJvrC7Dvi2bj"
      }
    },
    {
      "cell_type": "code",
      "source": [
        "y = ny.flip(y)\n",
        "print(y)"
      ],
      "metadata": {
        "colab": {
          "base_uri": "https://localhost:8080/"
        },
        "id": "gwY-kZE0rF05",
        "outputId": "b6126d91-99b4-4950-dc4a-cb3bab5e0bcb"
      },
      "execution_count": null,
      "outputs": [
        {
          "output_type": "stream",
          "name": "stdout",
          "text": [
            "[50 40 30 20 10]\n"
          ]
        }
      ]
    },
    {
      "cell_type": "markdown",
      "source": [
        "How to make a NumPy array read-only?"
      ],
      "metadata": {
        "id": "RWS6w3KGi2e4"
      }
    },
    {
      "cell_type": "code",
      "source": [
        "y.flags.writeable = False"
      ],
      "metadata": {
        "id": "jZdBcp7srGdB"
      },
      "execution_count": null,
      "outputs": []
    },
    {
      "cell_type": "markdown",
      "source": [
        "# ***NumPy Matrix***"
      ],
      "metadata": {
        "id": "9ZYMARo3wx-h"
      }
    },
    {
      "cell_type": "markdown",
      "source": [
        "Get the maximum value from given matrix"
      ],
      "metadata": {
        "id": "XhpR5JFvX5W3"
      }
    },
    {
      "cell_type": "code",
      "source": [
        "y = ny.random.randint(10, size=(4,5))\n",
        "print(y)\n",
        "max_value = ny.max(y)\n",
        "print(max_value)"
      ],
      "metadata": {
        "colab": {
          "base_uri": "https://localhost:8080/"
        },
        "id": "EYMkum6hmM5Q",
        "outputId": "e9d5715b-48b6-4d77-f6b7-50493ee61640"
      },
      "execution_count": 98,
      "outputs": [
        {
          "output_type": "stream",
          "name": "stdout",
          "text": [
            "[[1 0 3 5 2]\n",
            " [3 2 1 3 2]\n",
            " [9 4 0 6 4]\n",
            " [9 6 5 8 6]]\n",
            "9\n"
          ]
        }
      ]
    },
    {
      "cell_type": "markdown",
      "source": [
        "Get the minimum value from given matrix"
      ],
      "metadata": {
        "id": "2Ob38qYeX5Nm"
      }
    },
    {
      "cell_type": "code",
      "source": [
        "min_value = ny.min(y)\n",
        "print(min_value)"
      ],
      "metadata": {
        "colab": {
          "base_uri": "https://localhost:8080/"
        },
        "id": "1eICQudymNU-",
        "outputId": "4414902e-01dd-4367-9a7c-8d6f0051fdd5"
      },
      "execution_count": 100,
      "outputs": [
        {
          "output_type": "stream",
          "name": "stdout",
          "text": [
            "0\n"
          ]
        }
      ]
    },
    {
      "cell_type": "markdown",
      "source": [
        "Find the number of rows and columns of a given matrix using NumPy"
      ],
      "metadata": {
        "id": "gVA8k3i-X5FO"
      }
    },
    {
      "cell_type": "code",
      "source": [
        "ny.shape(y)"
      ],
      "metadata": {
        "colab": {
          "base_uri": "https://localhost:8080/"
        },
        "id": "CxJbvTnXmNlP",
        "outputId": "42872d9f-cdcf-47be-a57e-0aa19a2b3cd9"
      },
      "execution_count": 103,
      "outputs": [
        {
          "output_type": "execute_result",
          "data": {
            "text/plain": [
              "(4, 5)"
            ]
          },
          "metadata": {},
          "execution_count": 103
        }
      ]
    },
    {
      "cell_type": "markdown",
      "source": [
        "Select the elements from a given matrix"
      ],
      "metadata": {
        "id": "afACdh_QX48r"
      }
    },
    {
      "cell_type": "code",
      "source": [
        "y = ny.select([y%2==0], [y])\n",
        "\n",
        "print('Selecionar os elementos pares de m1')\n",
        "print(y)"
      ],
      "metadata": {
        "colab": {
          "base_uri": "https://localhost:8080/"
        },
        "id": "za08wDfTmN24",
        "outputId": "5906ef2a-2b7b-4289-b601-1e48f5d4c421"
      },
      "execution_count": 105,
      "outputs": [
        {
          "output_type": "stream",
          "name": "stdout",
          "text": [
            "Selecionar os elementos pares de m1\n",
            "[[0 0 0 0 2]\n",
            " [0 2 0 0 2]\n",
            " [0 4 0 6 4]\n",
            " [0 6 0 8 6]]\n"
          ]
        }
      ]
    },
    {
      "cell_type": "markdown",
      "source": [
        "Find the sum of values in a matrix"
      ],
      "metadata": {
        "id": "OOsqPeUGX40I"
      }
    },
    {
      "cell_type": "code",
      "source": [
        "ny.sum(y)"
      ],
      "metadata": {
        "colab": {
          "base_uri": "https://localhost:8080/"
        },
        "id": "i2vyWhRnmOK1",
        "outputId": "93a04ce2-7c2b-4974-bb9f-424b92e9d494"
      },
      "execution_count": 107,
      "outputs": [
        {
          "output_type": "execute_result",
          "data": {
            "text/plain": [
              "40"
            ]
          },
          "metadata": {},
          "execution_count": 107
        }
      ]
    },
    {
      "cell_type": "markdown",
      "source": [
        "Calculate the sum of the diagonal elements of a NumPy array"
      ],
      "metadata": {
        "id": "0k-5S-w5X4re"
      }
    },
    {
      "cell_type": "code",
      "source": [
        "ny.trace(y)"
      ],
      "metadata": {
        "colab": {
          "base_uri": "https://localhost:8080/"
        },
        "id": "jSkmXHaHmOdb",
        "outputId": "bb2d161a-67f1-4aa1-92ab-d130c4386844"
      },
      "execution_count": 108,
      "outputs": [
        {
          "output_type": "execute_result",
          "data": {
            "text/plain": [
              "10"
            ]
          },
          "metadata": {},
          "execution_count": 108
        }
      ]
    },
    {
      "cell_type": "markdown",
      "source": [
        "Adding and Subtracting Matrices in Python"
      ],
      "metadata": {
        "id": "jdsUI1eIX4hq"
      }
    },
    {
      "cell_type": "code",
      "source": [
        "y1 = ny.random.randint(10, size=(4,5))\n",
        "y2 = ny.random.randint(10, size=(4,5))\n",
        "print(\"soma:\\n\")\n",
        "s = y1 + y2\n",
        "print(s)\n",
        "print(\"\\n\")\n",
        "print(\"subtração:\\n\")\n",
        "sub = y1 - y2\n",
        "print(sub)"
      ],
      "metadata": {
        "colab": {
          "base_uri": "https://localhost:8080/"
        },
        "id": "NKbq3DKVmOuC",
        "outputId": "698a7265-47a5-4530-e2d7-f6641f1e2331"
      },
      "execution_count": 110,
      "outputs": [
        {
          "output_type": "stream",
          "name": "stdout",
          "text": [
            "soma:\n",
            "\n",
            "[[ 5  4  3 15 18]\n",
            " [ 9 17  8 13  8]\n",
            " [ 4  7  1  2 13]\n",
            " [ 1  6  8 13 10]]\n",
            "\n",
            "\n",
            "subtração:\n",
            "\n",
            "[[ 1 -4  3 -1  0]\n",
            " [-9  1  0  1  0]\n",
            " [-4 -3  1 -2 -3]\n",
            " [-1 -2 -4  5  2]]\n"
          ]
        }
      ]
    },
    {
      "cell_type": "markdown",
      "source": [
        "Ways to add row/columns in numpy array"
      ],
      "metadata": {
        "id": "fE_OYW8HX4Yb"
      }
    },
    {
      "cell_type": "code",
      "source": [
        "ini_array = ny.array([[1, 2, 3], [45, 4, 7], [9, 6, 10]])\n",
        " \n",
        "\n",
        "print(\"initial_array : \", str(ini_array));\n",
        " \n",
        "column_to_be_added = ny.array([[1], [2], [3]])\n",
        " \n",
        "# Adding column to array using append() method\n",
        "arr = ny.append(ini_array, column_to_be_added, axis=1)\n",
        " \n",
        "# printing result\n",
        "print (\"resultant array\", str(arr))"
      ],
      "metadata": {
        "colab": {
          "base_uri": "https://localhost:8080/"
        },
        "id": "GNTlYSlhmO_X",
        "outputId": "25f009d8-608d-4539-a30b-14ee4a692ecc"
      },
      "execution_count": 115,
      "outputs": [
        {
          "output_type": "stream",
          "name": "stdout",
          "text": [
            "initial_array :  [[ 1  2  3]\n",
            " [45  4  7]\n",
            " [ 9  6 10]]\n",
            "resultant array [[ 1  2  3  1]\n",
            " [45  4  7  2]\n",
            " [ 9  6 10  3]]\n"
          ]
        }
      ]
    },
    {
      "cell_type": "markdown",
      "source": [
        "Matrix Multiplication in NumPy"
      ],
      "metadata": {
        "id": "HlEYpfzUX4Qb"
      }
    },
    {
      "cell_type": "code",
      "source": [
        "y1 = ny.random.randint(10, size=(4,4))\n",
        "y2 = ny.random.randint(10, size=(4,4))\n",
        "mult = y1 @ y2\n",
        "print(mult)"
      ],
      "metadata": {
        "colab": {
          "base_uri": "https://localhost:8080/"
        },
        "id": "iBdXu93ymPej",
        "outputId": "bcfe81d8-2f3c-4799-e6d5-d01a70a2fba4"
      },
      "execution_count": 118,
      "outputs": [
        {
          "output_type": "stream",
          "name": "stdout",
          "text": [
            "[[ 66 107  73  81]\n",
            " [126 147 120 132]\n",
            " [ 65  51  66  65]\n",
            " [112  77  66  98]]\n"
          ]
        }
      ]
    },
    {
      "cell_type": "markdown",
      "source": [
        "Get the eigen values of a matrix"
      ],
      "metadata": {
        "id": "Nuj7sT1xX4IS"
      }
    },
    {
      "cell_type": "code",
      "source": [
        "eigen = ny.linalg.eigvals(y1)\n",
        "\n",
        "print(eigen)"
      ],
      "metadata": {
        "colab": {
          "base_uri": "https://localhost:8080/"
        },
        "id": "8eX-QYX7mP-T",
        "outputId": "3f1580fd-3ce7-438d-9574-3ea9ddfdf18e"
      },
      "execution_count": 120,
      "outputs": [
        {
          "output_type": "stream",
          "name": "stdout",
          "text": [
            "[18.2002966 +0.j         -1.30816436+3.58319209j -1.30816436-3.58319209j\n",
            "  1.41603213+0.j        ]\n"
          ]
        }
      ]
    },
    {
      "cell_type": "markdown",
      "source": [
        "How to Calculate the determinant of a matrix using NumPy?"
      ],
      "metadata": {
        "id": "8U8MTORjX4Ac"
      }
    },
    {
      "cell_type": "code",
      "source": [
        "ny.linalg.det(y1)"
      ],
      "metadata": {
        "colab": {
          "base_uri": "https://localhost:8080/"
        },
        "id": "0tefqo2FmQfj",
        "outputId": "69341f21-a72f-40bb-b8da-9cdf33138423"
      },
      "execution_count": 122,
      "outputs": [
        {
          "output_type": "execute_result",
          "data": {
            "text/plain": [
              "374.99999999999994"
            ]
          },
          "metadata": {},
          "execution_count": 122
        }
      ]
    },
    {
      "cell_type": "markdown",
      "source": [
        "How to inverse a matrix using NumPy"
      ],
      "metadata": {
        "id": "q9GX0vsbX35F"
      }
    },
    {
      "cell_type": "code",
      "source": [
        "ny.linalg.inv(y1)"
      ],
      "metadata": {
        "colab": {
          "base_uri": "https://localhost:8080/"
        },
        "id": "Wd1seR7KmQ3u",
        "outputId": "77634086-9e8f-4c83-9071-69ef5a1bc656"
      },
      "execution_count": 123,
      "outputs": [
        {
          "output_type": "execute_result",
          "data": {
            "text/plain": [
              "array([[-0.8       ,  0.86666667, -0.4       , -0.2       ],\n",
              "       [-0.696     ,  0.75733333, -0.528     , -0.064     ],\n",
              "       [ 0.528     , -0.632     ,  0.504     ,  0.152     ],\n",
              "       [ 0.68      , -0.58666667,  0.24      ,  0.12      ]])"
            ]
          },
          "metadata": {},
          "execution_count": 123
        }
      ]
    },
    {
      "cell_type": "markdown",
      "source": [
        "How to count the frequency of unique values in NumPy array?"
      ],
      "metadata": {
        "id": "YB0_B1GbX3xu"
      }
    },
    {
      "cell_type": "code",
      "source": [
        "unique, counts = ny.unique(ny.array(y1), return_counts=True)\n",
        "freq = ny.asarray((unique, counts)).T\n",
        "\n",
        "print(freq)"
      ],
      "metadata": {
        "colab": {
          "base_uri": "https://localhost:8080/"
        },
        "id": "ncvLI84emRNl",
        "outputId": "47e493e1-ba32-4a48-ba5b-f2f8e2c39fdf"
      },
      "execution_count": 124,
      "outputs": [
        {
          "output_type": "stream",
          "name": "stdout",
          "text": [
            "[[0 2]\n",
            " [1 1]\n",
            " [2 2]\n",
            " [3 2]\n",
            " [5 2]\n",
            " [6 2]\n",
            " [8 2]\n",
            " [9 3]]\n"
          ]
        }
      ]
    },
    {
      "cell_type": "markdown",
      "source": [
        "Multiply matrices of complex numbers using NumPy in Python"
      ],
      "metadata": {
        "id": "XHjDtc5nX3qN"
      }
    },
    {
      "cell_type": "code",
      "source": [
        "x = ny.random.random((6, 6)).astype('complex')\n",
        "y = ny.random.random((6, 6)).astype('complex')\n",
        "multiplix = x @ y\n",
        "\n",
        "print('x:\\n', x)\n",
        "print('\\ny:\\n', y)\n",
        "print('\\nx * y:\\n', multiplix)"
      ],
      "metadata": {
        "colab": {
          "base_uri": "https://localhost:8080/"
        },
        "id": "TnxnXLctmRfh",
        "outputId": "d8432127-1b29-440d-8d85-80c6e1e6e79d"
      },
      "execution_count": 125,
      "outputs": [
        {
          "output_type": "stream",
          "name": "stdout",
          "text": [
            "x:\n",
            " [[0.26343692+0.j 0.9565774 +0.j 0.7945938 +0.j 0.32678432+0.j\n",
            "  0.61354119+0.j 0.35708802+0.j]\n",
            " [0.28608969+0.j 0.91715119+0.j 0.99059778+0.j 0.44943042+0.j\n",
            "  0.23365985+0.j 0.60009383+0.j]\n",
            " [0.71887833+0.j 0.57752108+0.j 0.91223097+0.j 0.18959736+0.j\n",
            "  0.76884297+0.j 0.33746949+0.j]\n",
            " [0.35447715+0.j 0.62214444+0.j 0.12916748+0.j 0.62129627+0.j\n",
            "  0.40120123+0.j 0.01507841+0.j]\n",
            " [0.0586516 +0.j 0.04238876+0.j 0.53044292+0.j 0.7704738 +0.j\n",
            "  0.15025948+0.j 0.92483148+0.j]\n",
            " [0.55022458+0.j 0.99305423+0.j 0.91895703+0.j 0.27978777+0.j\n",
            "  0.5348252 +0.j 0.29967488+0.j]]\n",
            "\n",
            "y:\n",
            " [[0.57859793+0.j 0.36400494+0.j 0.86017102+0.j 0.70164277+0.j\n",
            "  0.81549863+0.j 0.19330135+0.j]\n",
            " [0.64593894+0.j 0.66098315+0.j 0.50298607+0.j 0.96508162+0.j\n",
            "  0.76053069+0.j 0.30127648+0.j]\n",
            " [0.63573627+0.j 0.3144129 +0.j 0.52614238+0.j 0.66700127+0.j\n",
            "  0.80235147+0.j 0.36403449+0.j]\n",
            " [0.55179262+0.j 0.08500276+0.j 0.70951768+0.j 0.54659012+0.j\n",
            "  0.9016406 +0.j 0.97436717+0.j]\n",
            " [0.30815938+0.j 0.75456064+0.j 0.02965664+0.j 0.02382858+0.j\n",
            "  0.23077551+0.j 0.60538016+0.j]\n",
            " [0.8087988 +0.j 0.83894422+0.j 0.66901044+0.j 0.39628935+0.j\n",
            "  0.51799677+0.j 0.93530027+0.j]]\n",
            "\n",
            "x * y:\n",
            " [[1.93366475+0.j 1.76831295+0.j 1.61476581+0.j 1.97275601+0.j\n",
            "  2.20108515+0.j 1.65219463+0.j]\n",
            " [2.19306554+0.j 1.73977486+0.j 1.95587323+0.j 2.23562129+0.j\n",
            "  2.49562932+0.j 1.83286057+0.j]\n",
            " [1.9834127 +0.j 1.80959717+0.j 1.77190133+0.j 1.92589802+0.j\n",
            "  2.28058357+0.j 1.61085224+0.j]\n",
            " [1.16773953+0.j 0.94906284+0.j 1.14860802+0.j 1.29042123+0.j\n",
            "  1.52645721+0.j 1.1653326 +0.j]\n",
            " [1.61798626+0.j 1.17090013+0.j 1.52070274+0.j 1.22708188+0.j\n",
            "  1.7140963 +0.j 1.92389129+0.j]\n",
            " [2.10559843+0.j 1.82435981+0.j 1.87114302+0.j 2.2418163 +0.j\n",
            "  2.47220532+0.j 1.61674967+0.j]]\n"
          ]
        }
      ]
    },
    {
      "cell_type": "markdown",
      "source": [
        "Compute the outer product of two given vectors using NumPy in Python"
      ],
      "metadata": {
        "id": "IeFfhx0bX3i9"
      }
    },
    {
      "cell_type": "code",
      "source": [
        "\n",
        "y1 = ny.array([5,4])\n",
        "y2 = ny.array([6,7])\n",
        "print(\"Original:\")\n",
        "print(y1)\n",
        "print(y2)\n",
        "  \n",
        "\n",
        "print(\"Outer Product:\")\n",
        "resultado = ny.outer(y1, y2)\n",
        "print(resultado)"
      ],
      "metadata": {
        "colab": {
          "base_uri": "https://localhost:8080/"
        },
        "id": "pI8XF0iumR4Y",
        "outputId": "cc5c0c4c-67a0-4328-858a-d2c68812868d"
      },
      "execution_count": 126,
      "outputs": [
        {
          "output_type": "stream",
          "name": "stdout",
          "text": [
            "Original:\n",
            "[5 4]\n",
            "[6 7]\n",
            "Outer Product:\n",
            "[[30 35]\n",
            " [24 28]]\n"
          ]
        }
      ]
    },
    {
      "cell_type": "markdown",
      "source": [
        "Calculate inner, outer, and cross products of matrices and vectors using NumPy"
      ],
      "metadata": {
        "id": "zu5l3dk8X3cy"
      }
    },
    {
      "cell_type": "code",
      "source": [
        "  \n",
        "a = ny.array([6, 6])\n",
        "b = ny.array([3, 6])\n",
        "print(\"Vectors :\")\n",
        "print(\"a = \", a)\n",
        "print(\"\\nb = \", b)\n",
        "  \n",
        "\n",
        "print(\"\\nInner product of vectors a and b =\")\n",
        "print(ny.inner(a, b))\n",
        "  \n",
        "print(\"---------------------------------------\")\n",
        "  \n",
        "\n",
        "x = ny.array([[5, 8, 1], [33, 62, 89]])\n",
        "y = ny.array([[1, 15, 8], [1, 3, 5]])\n",
        "print(\"\\nMatrices :\")\n",
        "print(\"x =\", x)\n",
        "print(\"\\ny =\", y)\n",
        "  \n",
        "\n",
        "print(\"\\nInner product of matrices x and y =\")\n",
        "print(ny.inner(x, y))"
      ],
      "metadata": {
        "colab": {
          "base_uri": "https://localhost:8080/"
        },
        "id": "HdkDQFPpmSR2",
        "outputId": "cd045fd9-bf4a-4355-c2d7-c14f98430400"
      },
      "execution_count": 127,
      "outputs": [
        {
          "output_type": "stream",
          "name": "stdout",
          "text": [
            "Vectors :\n",
            "a =  [6 6]\n",
            "\n",
            "b =  [3 6]\n",
            "\n",
            "Inner product of vectors a and b =\n",
            "54\n",
            "---------------------------------------\n",
            "\n",
            "Matrices :\n",
            "x = [[ 5  8  1]\n",
            " [33 62 89]]\n",
            "\n",
            "y = [[ 1 15  8]\n",
            " [ 1  3  5]]\n",
            "\n",
            "Inner product of matrices x and y =\n",
            "[[ 133   34]\n",
            " [1675  664]]\n"
          ]
        }
      ]
    },
    {
      "cell_type": "markdown",
      "source": [
        "Compute the covariance matrix of two given NumPy arrays"
      ],
      "metadata": {
        "id": "mxafjAbwxd-O"
      }
    },
    {
      "cell_type": "code",
      "source": [
        "y1 = ny.array([6, 3, 1])\n",
        "y2 = ny.array([1, 2, 1])\n",
        "  \n",
        "# Original array1\n",
        "print(y1)\n",
        "  \n",
        "# Original array2\n",
        "print(y2)\n",
        "  \n",
        "# Covariance matrix\n",
        "print(\"\\nCovariance matrix of the said arrays:\\n\",\n",
        "      ny.cov(y1, y2))"
      ],
      "metadata": {
        "colab": {
          "base_uri": "https://localhost:8080/"
        },
        "id": "HMyYplG5mSsQ",
        "outputId": "afade8f0-c2d1-494c-e62b-e71bf5ff518f"
      },
      "execution_count": 128,
      "outputs": [
        {
          "output_type": "stream",
          "name": "stdout",
          "text": [
            "[6 3 1]\n",
            "[1 2 1]\n",
            "\n",
            "Covariance matrix of the said arrays:\n",
            " [[ 6.33333333 -0.16666667]\n",
            " [-0.16666667  0.33333333]]\n"
          ]
        }
      ]
    },
    {
      "cell_type": "markdown",
      "source": [
        "Convert covariance matrix to correlation matrix using Python"
      ],
      "metadata": {
        "id": "J3GyT1zUxd1z"
      }
    },
    {
      "cell_type": "code",
      "source": [
        "y1 = ny.array([6, 3, 1])\n",
        "y2 = ny.array([1, 2, 1])\n",
        "  \n",
        "# Original array1\n",
        "print(y1)\n",
        "  \n",
        "# Original array2\n",
        "print(y2)\n",
        "  \n",
        "# Covariance matrix\n",
        "print(\"\\nCovariance matrix of the said arrays:\\n\",\n",
        "      ny.corrcoef(y1, y2))"
      ],
      "metadata": {
        "colab": {
          "base_uri": "https://localhost:8080/"
        },
        "id": "q-j4vvYcmTAc",
        "outputId": "cd1385ab-ae04-4bce-951a-6bbb28bae2d2"
      },
      "execution_count": 129,
      "outputs": [
        {
          "output_type": "stream",
          "name": "stdout",
          "text": [
            "[6 3 1]\n",
            "[1 2 1]\n",
            "\n",
            "Covariance matrix of the said arrays:\n",
            " [[ 1.         -0.11470787]\n",
            " [-0.11470787  1.        ]]\n"
          ]
        }
      ]
    },
    {
      "cell_type": "markdown",
      "source": [
        "Compute the Kronecker product of two mulitdimension NumPy arrays"
      ],
      "metadata": {
        "id": "d5wno6NKxdvT"
      }
    },
    {
      "cell_type": "code",
      "source": [
        "ny.kron(y1, y2)"
      ],
      "metadata": {
        "colab": {
          "base_uri": "https://localhost:8080/"
        },
        "id": "93zG6pBrmTzI",
        "outputId": "a69096e5-cf7d-4d06-f52f-7e767fd95780"
      },
      "execution_count": 130,
      "outputs": [
        {
          "output_type": "execute_result",
          "data": {
            "text/plain": [
              "array([ 6, 12,  6,  3,  6,  3,  1,  2,  1])"
            ]
          },
          "metadata": {},
          "execution_count": 130
        }
      ]
    },
    {
      "cell_type": "markdown",
      "source": [
        "Convert the matrix into a list"
      ],
      "metadata": {
        "id": "IhNRjsukxdoT"
      }
    },
    {
      "cell_type": "code",
      "source": [
        "ny.ravel(y1)"
      ],
      "metadata": {
        "colab": {
          "base_uri": "https://localhost:8080/"
        },
        "id": "WeVny89XmUJg",
        "outputId": "d67eaf1c-2ebd-4049-a29d-1f639d09a092"
      },
      "execution_count": 131,
      "outputs": [
        {
          "output_type": "execute_result",
          "data": {
            "text/plain": [
              "array([6, 3, 1])"
            ]
          },
          "metadata": {},
          "execution_count": 131
        }
      ]
    },
    {
      "cell_type": "markdown",
      "source": [
        "# ***NumPy Indexing***"
      ],
      "metadata": {
        "id": "epL7WJ4Zw_Hm"
      }
    },
    {
      "cell_type": "markdown",
      "source": [
        "Replace NumPy array elements that doesn’t satisfy the given condition"
      ],
      "metadata": {
        "id": "9UR-x-HgxGFF"
      }
    },
    {
      "cell_type": "code",
      "source": [
        "\n",
        "ay = ny.array([[73, 40, 60], [4, 40, 86], [66, 40, 3]])\n",
        "print(\"Given array:\")\n",
        "print(ay)\n",
        "  \n",
        "print(\"\\nReplace all elements of array which are greater than 40. to 16\")\n",
        "ay[ay > 40] = 16\n",
        "print(\"\\n\")\n",
        "print(ay)"
      ],
      "metadata": {
        "colab": {
          "base_uri": "https://localhost:8080/"
        },
        "id": "o6sFSe6vyWm4",
        "outputId": "fc5a77e9-1aef-4884-bdc5-9f42402458f7"
      },
      "execution_count": null,
      "outputs": [
        {
          "output_type": "stream",
          "name": "stdout",
          "text": [
            "Given array:\n",
            "[[73 40 60]\n",
            " [ 4 40 86]\n",
            " [66 40  3]]\n",
            "\n",
            "Replace all elements of array which are greater than 40. to 16\n",
            "\n",
            "\n",
            "[[16 40 16]\n",
            " [ 4 40 16]\n",
            " [16 40  3]]\n"
          ]
        }
      ]
    },
    {
      "cell_type": "markdown",
      "source": [
        "Return the indices of elements where the given condition is satisfied"
      ],
      "metadata": {
        "id": "AkSGUrNuxF_Y"
      }
    },
    {
      "cell_type": "code",
      "source": [
        "row, col = ny.where(ay>40)  \n",
        "ay = ny.asarray((row, col)).T\n",
        "print(ay)"
      ],
      "metadata": {
        "colab": {
          "base_uri": "https://localhost:8080/"
        },
        "id": "zr8XeKk-yW7X",
        "outputId": "1dafe744-c994-4505-de07-295f50e7fe46"
      },
      "execution_count": null,
      "outputs": [
        {
          "output_type": "stream",
          "name": "stdout",
          "text": [
            "[]\n"
          ]
        }
      ]
    },
    {
      "cell_type": "markdown",
      "source": [
        "Replace NaN values with average of columns"
      ],
      "metadata": {
        "id": "5VOWpD9gxF0O"
      }
    },
    {
      "cell_type": "code",
      "source": [
        "y = ny.array([[3, ny.nan, 2], [8, 22, ny.nan], [1, 3, 5]])\n",
        "print (\"matrix original\\n\", y)\n",
        "  \n",
        "\n",
        "indices = ny.where(ny.isnan(y))\n",
        "  \n",
        "\n",
        "yn = ny.where(ny.isnan(y), ny.ma.array(y, mask = ny.isnan(y)).mean(axis = 0), y)\n",
        "\n",
        "print (\"matrix nova\\n\", yn)"
      ],
      "metadata": {
        "colab": {
          "base_uri": "https://localhost:8080/"
        },
        "id": "qwhjqyJfyXSV",
        "outputId": "008035fb-7bfe-4a51-b6dd-bb16f143866c"
      },
      "execution_count": null,
      "outputs": [
        {
          "output_type": "stream",
          "name": "stdout",
          "text": [
            "matrix original\n",
            " [[ 3. nan  2.]\n",
            " [ 8. 22. nan]\n",
            " [ 1.  3.  5.]]\n",
            "matrix nova\n",
            " [[ 3.  12.5  2. ]\n",
            " [ 8.  22.   3.5]\n",
            " [ 1.   3.   5. ]]\n"
          ]
        }
      ]
    },
    {
      "cell_type": "markdown",
      "source": [
        "Replace negative value with zero in numpy array"
      ],
      "metadata": {
        "id": "cGKCiJxtxFvl"
      }
    },
    {
      "cell_type": "code",
      "source": [
        "y = ny.array([6, 6, -6, 6, -6, -6])\n",
        "  \n",
        "print(\"array inicial:\\n\", y)\n",
        "  \n",
        "y[y<0] = 0\n",
        "  \n",
        "print(\"novo array:\\n \", y)"
      ],
      "metadata": {
        "colab": {
          "base_uri": "https://localhost:8080/"
        },
        "id": "zzBiPq9RyXqN",
        "outputId": "49869f4b-6065-4fe4-97b1-6eb076106087"
      },
      "execution_count": null,
      "outputs": [
        {
          "output_type": "stream",
          "name": "stdout",
          "text": [
            "array inicial:\n",
            " [ 6  6 -6  6 -6 -6]\n",
            "novo array:\n",
            "  [6 6 0 6 0 0]\n"
          ]
        }
      ]
    },
    {
      "cell_type": "markdown",
      "source": [
        "How to get values of an NumPy array at certain index positions?"
      ],
      "metadata": {
        "id": "bma3Y2KpxFsi"
      }
    },
    {
      "cell_type": "code",
      "source": [
        "print(y[4]) #posição 4 (index)"
      ],
      "metadata": {
        "colab": {
          "base_uri": "https://localhost:8080/"
        },
        "id": "HPS7aLuryYDp",
        "outputId": "54be953d-2976-4f46-e0d2-864e736c5b15"
      },
      "execution_count": null,
      "outputs": [
        {
          "output_type": "stream",
          "name": "stdout",
          "text": [
            "0\n"
          ]
        }
      ]
    },
    {
      "cell_type": "markdown",
      "source": [
        "Find indices of elements equal to zero in a NumPy array"
      ],
      "metadata": {
        "id": "Iac5fJgDxFfp"
      }
    },
    {
      "cell_type": "code",
      "source": [
        "\n",
        "y = ny.array([1, 0, 2, 0, 3, 0, 0, 5, 6, 7, 5, 0, 8])\n",
        "  \n",
        "print(y)\n",
        "print(\"\\n\")\n",
        "\n",
        "print(\"matriz nova com os 0's eliminados:\")\n",
        "res = ny.where(y == 0)[0]\n",
        "print(res)"
      ],
      "metadata": {
        "colab": {
          "base_uri": "https://localhost:8080/"
        },
        "id": "M6huOHmMyYbV",
        "outputId": "8d4c58c2-8e25-4a46-e4d0-8786d8968fbe"
      },
      "execution_count": null,
      "outputs": [
        {
          "output_type": "stream",
          "name": "stdout",
          "text": [
            "[1 0 2 0 3 0 0 5 6 7 5 0 8]\n",
            "\n",
            "\n",
            "matriz nova com os 0's eliminados:\n",
            "[ 1  3  5  6 11]\n"
          ]
        }
      ]
    },
    {
      "cell_type": "markdown",
      "source": [
        "How to Remove columns in Numpy array that contains non-numeric values?"
      ],
      "metadata": {
        "id": "YYV5p75oxFYb"
      }
    },
    {
      "cell_type": "code",
      "source": [
        "\n",
        "n_arr = ny.array([[10.5, 22.5, 3.8],\n",
        "                  [41, ny.nan, ny.nan]])\n",
        "  \n",
        "print(\"Given array:\")\n",
        "print(n_arr)\n",
        "  \n",
        "print(\"\\nRemove all rows containing non-numeric elements\")\n",
        "print(n_arr[~ny.isnan(n_arr).any(axis=1)])"
      ],
      "metadata": {
        "colab": {
          "base_uri": "https://localhost:8080/"
        },
        "id": "U-FY1CtxyYvT",
        "outputId": "9615c129-b826-4b95-f022-d36c9de8740f"
      },
      "execution_count": null,
      "outputs": [
        {
          "output_type": "stream",
          "name": "stdout",
          "text": [
            "Given array:\n",
            "[[10.5 22.5  3.8]\n",
            " [41.   nan  nan]]\n",
            "\n",
            "Remove all rows containing non-numeric elements\n",
            "[[10.5 22.5  3.8]]\n"
          ]
        }
      ]
    },
    {
      "cell_type": "markdown",
      "source": [
        "How to access different rows of a multidimensional NumPy array?"
      ],
      "metadata": {
        "id": "hVG4VbJJxRU4"
      }
    },
    {
      "cell_type": "code",
      "source": [
        "\n",
        "y = ny.array([[10, 20, 30], \n",
        "                [40, 5, 66], \n",
        "                [70, 88, 94]])\n",
        "  \n",
        "print(\"Given Array :\")\n",
        "print(y)\n",
        "  \n",
        "\n",
        "resy = y[[0,2]]\n",
        "print(\"\\nAccessed Rows :\")\n",
        "print(resy)"
      ],
      "metadata": {
        "colab": {
          "base_uri": "https://localhost:8080/"
        },
        "id": "55tp11IgyZHD",
        "outputId": "05acb400-a5d1-4d1a-9131-588b68aed814"
      },
      "execution_count": null,
      "outputs": [
        {
          "output_type": "stream",
          "name": "stdout",
          "text": [
            "Given Array :\n",
            "[[10 20 30]\n",
            " [40  5 66]\n",
            " [70 88 94]]\n",
            "\n",
            "Accessed Rows :\n",
            "[[10 20 30]\n",
            " [70 88 94]]\n"
          ]
        }
      ]
    },
    {
      "cell_type": "markdown",
      "source": [
        "Get row numbers of NumPy array having element larger than X"
      ],
      "metadata": {
        "id": "ewTFnVnhxS1U"
      }
    },
    {
      "cell_type": "code",
      "source": [
        "\n",
        "arr = ny.array([[1, 2, 3, 4, 5],\n",
        "                  [10, -3, 30, 4, 5],\n",
        "                  [3, 2, 5, -4, 5],\n",
        "                  [9, 7, 3, 6, 5] \n",
        "                 ])\n",
        "  \n",
        "# declare specified value\n",
        "X = 6\n",
        "  \n",
        "# view array\n",
        "print(\"Given Array:\\n\", arr)\n",
        "  \n",
        "# finding out the row numbers\n",
        "output  = ny.where(ny.any(arr > X,\n",
        "                                axis = 1))\n",
        "  \n",
        "# view output\n",
        "print(\"Result:\\n\", output)"
      ],
      "metadata": {
        "colab": {
          "base_uri": "https://localhost:8080/"
        },
        "id": "ZXV2cxiZyZdl",
        "outputId": "5026f341-3090-4fe3-bb46-8cb7c89de2ce"
      },
      "execution_count": null,
      "outputs": [
        {
          "output_type": "stream",
          "name": "stdout",
          "text": [
            "Given Array:\n",
            " [[ 1  2  3  4  5]\n",
            " [10 -3 30  4  5]\n",
            " [ 3  2  5 -4  5]\n",
            " [ 9  7  3  6  5]]\n",
            "Result:\n",
            " (array([1, 3]),)\n"
          ]
        }
      ]
    },
    {
      "cell_type": "markdown",
      "source": [
        "Get filled the diagonals of NumPy array"
      ],
      "metadata": {
        "id": "1IIVGn9zxSsv"
      }
    },
    {
      "cell_type": "code",
      "source": [
        "  \n",
        "\n",
        "array = ny.array([[8, 3], [4, 9]])\n",
        "ny.fill_diagonal(array, 6)\n",
        "  \n",
        "print(array)"
      ],
      "metadata": {
        "colab": {
          "base_uri": "https://localhost:8080/"
        },
        "id": "FYa8-eZQyZ7D",
        "outputId": "65346106-0195-4fd0-d198-c7baeeb222c0"
      },
      "execution_count": null,
      "outputs": [
        {
          "output_type": "stream",
          "name": "stdout",
          "text": [
            "[[6 3]\n",
            " [4 6]]\n"
          ]
        }
      ]
    },
    {
      "cell_type": "markdown",
      "source": [
        "Check elements present in the NumPy array"
      ],
      "metadata": {
        "id": "lsXhFWeCxSlX"
      }
    },
    {
      "cell_type": "code",
      "source": [
        "\n",
        "  \n",
        "# creating a Numpy array\n",
        "n_array = ny.array([[2, 3, 0],\n",
        "                    [4, 1, 6]])\n",
        "  \n",
        "print(\"Given array:\")\n",
        "print(n_array)\n",
        "  \n",
        "# Checking whether specific values\n",
        "# are present in \"n_array\" or not\n",
        "print(2 in n_array)\n",
        "print(0 in n_array)\n",
        "print(6 in n_array)\n",
        "print(50 in n_array)\n",
        "print(10 in n_array)"
      ],
      "metadata": {
        "colab": {
          "base_uri": "https://localhost:8080/"
        },
        "id": "DvYrrhZKyaXf",
        "outputId": "81cb293d-3fc4-49da-c7f9-1bf94b2ed567"
      },
      "execution_count": null,
      "outputs": [
        {
          "output_type": "stream",
          "name": "stdout",
          "text": [
            "Given array:\n",
            "[[2 3 0]\n",
            " [4 1 6]]\n",
            "True\n",
            "True\n",
            "True\n",
            "False\n",
            "False\n"
          ]
        }
      ]
    },
    {
      "cell_type": "markdown",
      "source": [
        ""
      ],
      "metadata": {
        "id": "b3UUeBB68h84"
      }
    },
    {
      "cell_type": "markdown",
      "source": [
        "# ***NumPy Linear Algebra***"
      ],
      "metadata": {
        "id": "92NzQJv78l7c"
      }
    },
    {
      "cell_type": "markdown",
      "source": [
        "Find a matrix or vector norm using NumPy"
      ],
      "metadata": {
        "id": "XGvgRhwH8tdp"
      }
    },
    {
      "cell_type": "code",
      "source": [
        "\n",
        "y = ny.arange(6)\n",
        " \n",
        "\n",
        "y_normal = ny.linalg.norm(y)\n",
        " \n",
        "print(\"Vetor normal:\")\n",
        "print(y_normal)"
      ],
      "metadata": {
        "colab": {
          "base_uri": "https://localhost:8080/"
        },
        "id": "YO5P7dAX8l5G",
        "outputId": "9cbda707-4983-49c6-b6e1-492de71ef6b8"
      },
      "execution_count": null,
      "outputs": [
        {
          "output_type": "stream",
          "name": "stdout",
          "text": [
            "Vetor normal:\n",
            "7.416198487095663\n"
          ]
        }
      ]
    },
    {
      "cell_type": "markdown",
      "source": [
        "Calculate the QR decomposition of a given matrix using NumPy"
      ],
      "metadata": {
        "id": "7vo5dI2S8tbI"
      }
    },
    {
      "cell_type": "code",
      "source": [
        "\n",
        "y1 = ny.array([[6, 2, 1], [2, 7, 9]])\n",
        "print(y1)\n",
        "  \n",
        "\n",
        "e, v = ny.linalg.qr(y1)\n",
        "print('\\nE:\\n', e)\n",
        "print('\\nV:\\n', v)"
      ],
      "metadata": {
        "colab": {
          "base_uri": "https://localhost:8080/"
        },
        "id": "bG38qAhB8mRu",
        "outputId": "c7008e56-732d-4846-883e-2b59331fa222"
      },
      "execution_count": null,
      "outputs": [
        {
          "output_type": "stream",
          "name": "stdout",
          "text": [
            "[[6 2 1]\n",
            " [2 7 9]]\n",
            "\n",
            "E:\n",
            " [[-0.9486833  -0.31622777]\n",
            " [-0.31622777  0.9486833 ]]\n",
            "\n",
            "V:\n",
            " [[-6.32455532 -4.11096096 -3.79473319]\n",
            " [ 0.          6.00832755  8.22192192]]\n"
          ]
        }
      ]
    },
    {
      "cell_type": "markdown",
      "source": [
        "Compute the condition number of a given matrix using NumPy"
      ],
      "metadata": {
        "id": "htYlk_QO8tYo"
      }
    },
    {
      "cell_type": "code",
      "source": [
        "\n",
        "y = ny.array([[5, 6], [7, 2]])\n",
        "  \n",
        "print(\"Matrix original:\")\n",
        "print(y)\n",
        "  \n",
        "\n",
        "resultado =  ny.linalg.cond(y)\n",
        "  \n",
        "print(\"Condition number:\")\n",
        "print(resultado)"
      ],
      "metadata": {
        "colab": {
          "base_uri": "https://localhost:8080/"
        },
        "id": "IcdANbh_8mov",
        "outputId": "e4fcc7c2-38da-4263-80f2-b55f69902031"
      },
      "execution_count": null,
      "outputs": [
        {
          "output_type": "stream",
          "name": "stdout",
          "text": [
            "Matrix original:\n",
            "[[5 6]\n",
            " [7 2]]\n",
            "Condition number:\n",
            "3.2553095518838444\n"
          ]
        }
      ]
    },
    {
      "cell_type": "markdown",
      "source": [
        "Compute the eigenvalues and right eigenvectors of a given square array using NumPy?"
      ],
      "metadata": {
        "id": "ocs197bU8tWJ"
      }
    },
    {
      "cell_type": "code",
      "source": [
        "\n",
        "y = ny.array([[4, 3],\n",
        "              [7, 2]])\n",
        "  \n",
        "print(\"Array original:\\n\", y)\n",
        "\n",
        "e, r = ny.linalg.eig(y)\n",
        "  \n",
        "\n",
        "print(\"Eigenvalues  array:\\n\", e)\n",
        "  \n",
        "\n",
        "print(\"Right eigenvectors array:\\n\", r)"
      ],
      "metadata": {
        "colab": {
          "base_uri": "https://localhost:8080/"
        },
        "id": "XwRKBgK38m7m",
        "outputId": "6ff9f16f-2bac-4d26-90c0-387c050511e4"
      },
      "execution_count": null,
      "outputs": [
        {
          "output_type": "stream",
          "name": "stdout",
          "text": [
            "Array original:\n",
            " [[4 3]\n",
            " [7 2]]\n",
            "Eigenvalues  array:\n",
            " [ 7.69041576 -1.69041576]\n",
            "Right eigenvectors array:\n",
            " [[ 0.63078729 -0.46636038]\n",
            " [ 0.77595579  0.88459482]]\n"
          ]
        }
      ]
    },
    {
      "cell_type": "markdown",
      "source": [
        "Calculate the Euclidean distance using NumPy"
      ],
      "metadata": {
        "id": "UiZUUOtv8tTP"
      }
    },
    {
      "cell_type": "code",
      "source": [
        "\n",
        "y1 = ny.array((2, 6, 8))\n",
        "y2 = ny.array((4, 9, 5))\n",
        " \n",
        "\n",
        "distancia = ny.linalg.norm(y1 - y2)\n",
        " \n",
        "\n",
        "print(distancia)"
      ],
      "metadata": {
        "colab": {
          "base_uri": "https://localhost:8080/"
        },
        "id": "caLLPk5R8nWH",
        "outputId": "b37bf4ed-0866-4626-fe0f-0d0b6658c481"
      },
      "execution_count": null,
      "outputs": [
        {
          "output_type": "stream",
          "name": "stdout",
          "text": [
            "4.69041575982343\n"
          ]
        }
      ]
    },
    {
      "cell_type": "markdown",
      "source": [
        "# ***NumPy Random***"
      ],
      "metadata": {
        "id": "IPyXiAml-wzZ"
      }
    },
    {
      "cell_type": "markdown",
      "source": [
        "Create a Numpy array with random values"
      ],
      "metadata": {
        "id": "PB4wdHxH-9zO"
      }
    },
    {
      "cell_type": "code",
      "source": [
        "ny.random.rand(6,6)"
      ],
      "metadata": {
        "colab": {
          "base_uri": "https://localhost:8080/"
        },
        "id": "zRoaQyv5_aL-",
        "outputId": "f13bb2ca-19a0-4756-a2fa-6cb1e874d875"
      },
      "execution_count": null,
      "outputs": [
        {
          "output_type": "execute_result",
          "data": {
            "text/plain": [
              "array([[0.97108214, 0.73145515, 0.95370846, 0.07473573, 0.53318765,\n",
              "        0.86439853],\n",
              "       [0.27157293, 0.25336625, 0.26798566, 0.03829954, 0.2434042 ,\n",
              "        0.02500499],\n",
              "       [0.21390135, 0.73931556, 0.09833425, 0.45835247, 0.74100018,\n",
              "        0.02659581],\n",
              "       [0.86528952, 0.52240643, 0.60462892, 0.60781023, 0.00637366,\n",
              "        0.2639406 ],\n",
              "       [0.72592385, 0.7494173 , 0.62640035, 0.66384331, 0.94473345,\n",
              "        0.9786963 ],\n",
              "       [0.36107482, 0.88092864, 0.55793029, 0.33485764, 0.43088341,\n",
              "        0.84028442]])"
            ]
          },
          "metadata": {},
          "execution_count": 10
        }
      ]
    },
    {
      "cell_type": "markdown",
      "source": [
        "How to choose elements from the list with different probability using NumPy?"
      ],
      "metadata": {
        "id": "JbpmeUga-9qH"
      }
    },
    {
      "cell_type": "code",
      "source": [
        "\n",
        "y_list = [10, 20, 30, 40, 50, 60, 70, 80, 90]\n",
        "  \n",
        "y_number = ny.random.choice(y_list)\n",
        "  \n",
        "print(y_number)"
      ],
      "metadata": {
        "colab": {
          "base_uri": "https://localhost:8080/"
        },
        "id": "tD834Tlq_a0O",
        "outputId": "9c037cab-251b-469f-8c46-84f53ac2da34"
      },
      "execution_count": null,
      "outputs": [
        {
          "output_type": "stream",
          "name": "stdout",
          "text": [
            "70\n"
          ]
        }
      ]
    },
    {
      "cell_type": "markdown",
      "source": [
        "How to get weighted random choice in Python?"
      ],
      "metadata": {
        "id": "9izxqaHB-9gf"
      }
    },
    {
      "cell_type": "code",
      "source": [
        "import random\n",
        "y_List = [100, 200, 300, 400, 500, 600, 700, 800]\n",
        "y_randomList = random.choices(y_List, weights=(10, 20, 30, 40, 50, 60 ,70 ,80), k=8)\n",
        "  \n",
        "print(y_randomList)"
      ],
      "metadata": {
        "colab": {
          "base_uri": "https://localhost:8080/"
        },
        "id": "b4nUFv5G_bW2",
        "outputId": "7d85d541-ff68-49c7-f653-23279cb91a2d"
      },
      "execution_count": null,
      "outputs": [
        {
          "output_type": "stream",
          "name": "stdout",
          "text": [
            "[100, 600, 100, 300, 800, 700, 400, 800]\n"
          ]
        }
      ]
    },
    {
      "cell_type": "markdown",
      "source": [
        "Generate Random Numbers From The Uniform Distribution using NumPy"
      ],
      "metadata": {
        "id": "3DoQmZdx-9XP"
      }
    },
    {
      "cell_type": "code",
      "source": [
        "\n",
        "y = ny.random.uniform(size=6)\n",
        "\n",
        "print(y)"
      ],
      "metadata": {
        "colab": {
          "base_uri": "https://localhost:8080/"
        },
        "id": "zJhj0y-L_bse",
        "outputId": "f16fcb7c-f8ad-446f-a0bf-2cdefee2f098"
      },
      "execution_count": null,
      "outputs": [
        {
          "output_type": "stream",
          "name": "stdout",
          "text": [
            "[0.73389148 0.30817768 0.88871763 0.15135065 0.69380359 0.00900234]\n"
          ]
        }
      ]
    },
    {
      "cell_type": "markdown",
      "source": [
        "Get Random Elements form geometric distribution"
      ],
      "metadata": {
        "id": "sWtEKt2j-9N-"
      }
    },
    {
      "cell_type": "code",
      "source": [
        "\n",
        "import matplotlib.pyplot as plt\n",
        "  \n",
        "# Using geometric() method\n",
        "y = ny.random.geometric(0.6, 1000)\n",
        "  \n",
        "count, bins, ignored = plt.hist(y, 50, density = True)\n",
        "plt.show()"
      ],
      "metadata": {
        "colab": {
          "base_uri": "https://localhost:8080/",
          "height": 265
        },
        "id": "BmHdKzCk_cRX",
        "outputId": "4d55fc39-3804-4b29-a5a4-7087f6f12685"
      },
      "execution_count": null,
      "outputs": [
        {
          "output_type": "display_data",
          "data": {
            "text/plain": [
              "<Figure size 432x288 with 1 Axes>"
            ],
            "image/png": "[encoded data removed]"
          },
          "metadata": {
            "needs_background": "light"
          }
        }
      ]
    },
    {
      "cell_type": "markdown",
      "source": [
        "Get Random elements from Laplace distribution"
      ],
      "metadata": {
        "id": "9sMPQZcT-9En"
      }
    },
    {
      "cell_type": "code",
      "source": [
        "import matplotlib.pyplot as plt\n",
        "  \n",
        "y = ny.random.laplace(1, 6, 1000)\n",
        "  \n",
        "count, bins, ignored = plt.hist(y, 70, density = True)\n",
        "plt.show()"
      ],
      "metadata": {
        "colab": {
          "base_uri": "https://localhost:8080/",
          "height": 265
        },
        "id": "Ma5habZR_dg-",
        "outputId": "9a98a92c-7e2d-4659-e55a-05bc2a310229"
      },
      "execution_count": null,
      "outputs": [
        {
          "output_type": "display_data",
          "data": {
            "text/plain": [
              "<Figure size 432x288 with 1 Axes>"
            ],
            "image/png": "[encoded data removed]"
          },
          "metadata": {
            "needs_background": "light"
          }
        }
      ]
    },
    {
      "cell_type": "markdown",
      "source": [
        "Return a Matrix of random values from a uniform distribution"
      ],
      "metadata": {
        "id": "ing3BzuS-88u"
      }
    },
    {
      "cell_type": "code",
      "source": [
        "import numpy.matlib\n",
        "  \n",
        "y_maty = ny.matlib.rand((6, 6)) \n",
        "print (\"Saida : \", y_maty) "
      ],
      "metadata": {
        "colab": {
          "base_uri": "https://localhost:8080/"
        },
        "id": "VA-vMbJI_d_W",
        "outputId": "0dfd21b5-75cb-4e27-c707-6c4edc8ead43"
      },
      "execution_count": null,
      "outputs": [
        {
          "output_type": "stream",
          "name": "stdout",
          "text": [
            "Saida :  [[0.17485457 0.90089625 0.93536141 0.2386403  0.31437102 0.25384144]\n",
            " [0.27458867 0.18126965 0.16416148 0.83773717 0.68752777 0.8704475 ]\n",
            " [0.27638601 0.22963638 0.39711045 0.01982486 0.13028858 0.70935701]\n",
            " [0.73310126 0.58015754 0.54734462 0.02885988 0.64277874 0.87748656]\n",
            " [0.70023758 0.87255907 0.08162446 0.02487645 0.98569557 0.12101534]\n",
            " [0.5650488  0.26617501 0.63814348 0.12346805 0.99315371 0.27066887]]\n"
          ]
        }
      ]
    },
    {
      "cell_type": "markdown",
      "source": [
        "Return a Matrix of random values from a Gaussian distribution"
      ],
      "metadata": {
        "id": "CkdkpIQz-81P"
      }
    },
    {
      "cell_type": "code",
      "source": [
        "import matplotlib.pyplot as plt\n",
        "mu, sigma = 0, 0.1 # mean and standard deviation\n",
        "s = ny.random.normal(mu, sigma, 1000)\n",
        "count, bins, ignored = plt.hist(s, 30, density=True)\n",
        "plt.plot(bins, 1/(sigma * ny.sqrt(2 * ny.pi)) *\n",
        "               ny.exp( - (bins - mu)**2 / (2 * sigma**2) ),\n",
        "         linewidth=2, color='r')\n",
        "plt.show()"
      ],
      "metadata": {
        "colab": {
          "base_uri": "https://localhost:8080/",
          "height": 265
        },
        "id": "gNQwUEAL_eWe",
        "outputId": "0cfb10a4-3644-405d-b140-dfd55bb50679"
      },
      "execution_count": null,
      "outputs": [
        {
          "output_type": "display_data",
          "data": {
            "text/plain": [
              "<Figure size 432x288 with 1 Axes>"
            ],
            "image/png": "[encoded data removed]"
          },
          "metadata": {
            "needs_background": "light"
          }
        }
      ]
    },
    {
      "cell_type": "markdown",
      "source": [
        "# ***NumPy Sorting and Searching***"
      ],
      "metadata": {
        "id": "WndXS6T3D2re"
      }
    },
    {
      "cell_type": "markdown",
      "source": [
        "How to get the indices of the sorted array using NumPy in Python?"
      ],
      "metadata": {
        "id": "7CHQ1RvTD-ZW"
      }
    },
    {
      "cell_type": "code",
      "source": [
        "\n",
        "y = ny.array([10, 52, 62, 16, 16, 54, 453])\n",
        "print(\"array original:\\n\", y)\n",
        "  \n",
        "print(\"indices sortidos:\")\n",
        "ind = ny.argsort(y)\n",
        "print(ind)"
      ],
      "metadata": {
        "colab": {
          "base_uri": "https://localhost:8080/"
        },
        "id": "SOliB36gEepu",
        "outputId": "c29382ce-3400-4444-cf3f-f0e44755f881"
      },
      "execution_count": null,
      "outputs": [
        {
          "output_type": "stream",
          "name": "stdout",
          "text": [
            "array original:\n",
            " [ 10  52  62  16  16  54 453]\n",
            "indices sortidos:\n",
            "[0 3 4 1 5 2 6]\n"
          ]
        }
      ]
    },
    {
      "cell_type": "markdown",
      "source": [
        "Finding the k smallest values of a NumPy array"
      ],
      "metadata": {
        "id": "QYlC2PgXD9S2"
      }
    },
    {
      "cell_type": "code",
      "source": [
        " \n",
        "y = ny.array([22, 2, 11, 53, 4, 75, 6, 76, 36, 80])\n",
        "print(\"Array origianal\")\n",
        "print(y)\n",
        "  \n",
        "\n",
        "k = 6\n",
        "y1 = ny.sort(y)\n",
        "  \n",
        "print(k, \"menos elemento do array\")\n",
        "print(y1[:k])"
      ],
      "metadata": {
        "colab": {
          "base_uri": "https://localhost:8080/"
        },
        "id": "i56OqxRCEfQW",
        "outputId": "30a23787-1196-4a51-b2aa-6f472f35a495"
      },
      "execution_count": null,
      "outputs": [
        {
          "output_type": "stream",
          "name": "stdout",
          "text": [
            "Array origianal\n",
            "[22  2 11 53  4 75  6 76 36 80]\n",
            "6 menos elemento do array\n",
            "[ 2  4  6 11 22 36]\n"
          ]
        }
      ]
    },
    {
      "cell_type": "markdown",
      "source": [
        "How to get the n-largest values of an array using NumPy?"
      ],
      "metadata": {
        "id": "wmNMuqu8D9P_"
      }
    },
    {
      "cell_type": "code",
      "source": [
        "\n",
        "arr = ny.array([2, 0,  1, 5,\n",
        "                4, 1, 9])\n",
        "  \n",
        "print(\"Given array:\", arr)\n",
        "  \n",
        "\n",
        "sorted_index_array = ny.argsort(arr)\n",
        "  \n",
        "\n",
        "sorted_array = arr[sorted_index_array]\n",
        "  \n",
        "print(\"Sorted array:\", sorted_array)\n",
        "  \n",
        "\n",
        "n = 1\n",
        "  \n",
        "\n",
        "\n",
        "rslt = sorted_array[-n : ]\n",
        "  \n",
        "\n",
        "print(\"{} largest value:\".format(n),\n",
        "      rslt[0])"
      ],
      "metadata": {
        "colab": {
          "base_uri": "https://localhost:8080/"
        },
        "id": "4acBgHSLEfpm",
        "outputId": "d3c8dae0-700f-4bcf-c551-bd21322dada0"
      },
      "execution_count": null,
      "outputs": [
        {
          "output_type": "stream",
          "name": "stdout",
          "text": [
            "Given array: [2 0 1 5 4 1 9]\n",
            "Sorted array: [0 1 1 2 4 5 9]\n",
            "1 largest value: 9\n"
          ]
        }
      ]
    },
    {
      "cell_type": "markdown",
      "source": [
        "Sort the values in a matrix"
      ],
      "metadata": {
        "id": "8SIunETOD9NW"
      }
    },
    {
      "cell_type": "code",
      "source": [
        "SIZE = 10\n",
        " \n",
        "\n",
        "def sortMat(mat, n) :\n",
        "     \n",
        "  \n",
        "    temp = [0] * (n * n)\n",
        "    k = 0\n",
        " \n",
        "\n",
        "    for i in range(0, n) :\n",
        "         \n",
        "        for j in range(0, n) :\n",
        "             \n",
        "            temp[k] = mat[i][j]\n",
        "            k += 1\n",
        " \n",
        "  \n",
        "    temp.sort()\n",
        "     \n",
        "\n",
        "    k = 0\n",
        "     \n",
        "    for i in range(0, n) :\n",
        "         \n",
        "        for j in range(0, n) :\n",
        "            mat[i][j] = temp[k]\n",
        "            k += 1\n",
        " \n",
        " \n",
        "\n",
        "def printMat(mat, n) :\n",
        "     \n",
        "    for i in range(0, n) :\n",
        "         \n",
        "        for j in range( 0, n ) :\n",
        "             \n",
        "            print(mat[i][j] , end = \" \")\n",
        "             \n",
        "        print()\n",
        "     \n",
        "     \n",
        "\n",
        "mat = [ [ 5, 4, 7 ],\n",
        "        [ 1, 3, 8 ],\n",
        "        [ 2, 9, 6 ] ]\n",
        "n = 3\n",
        " \n",
        "print( \"Original Matrix:\")\n",
        "printMat(mat, n)\n",
        " \n",
        "sortMat(mat, n)\n",
        " \n",
        "print(\"\\nMatrix After Sorting:\")\n",
        "printMat(mat, n)"
      ],
      "metadata": {
        "colab": {
          "base_uri": "https://localhost:8080/"
        },
        "id": "lt_gt7JPEgI2",
        "outputId": "1e16ffad-5314-4bfa-ff16-0b0c046fb7f4"
      },
      "execution_count": null,
      "outputs": [
        {
          "output_type": "stream",
          "name": "stdout",
          "text": [
            "Original Matrix:\n",
            "5 4 7 \n",
            "1 3 8 \n",
            "2 9 6 \n",
            "\n",
            "Matrix After Sorting:\n",
            "1 2 3 \n",
            "4 5 6 \n",
            "7 8 9 \n"
          ]
        }
      ]
    },
    {
      "cell_type": "markdown",
      "source": [
        "Filter out integers from float numpy array"
      ],
      "metadata": {
        "id": "80ruHxCTD9Ju"
      }
    },
    {
      "cell_type": "code",
      "source": [
        "\n",
        "y_array = ny.array([4.0, 2.2, 1.2, 6.0, 7.3, 9.0])\n",
        " \n",
        "print (\"array inicial : \", str(y_array))\n",
        " \n",
        "resultado = y_array[y_array != y_array.astype(int)]\n",
        " \n",
        "\n",
        "print (\"array final\", resultado)"
      ],
      "metadata": {
        "colab": {
          "base_uri": "https://localhost:8080/"
        },
        "id": "QCMOmiejEggu",
        "outputId": "c030490e-ff13-4394-a679-a56bef90c7f9"
      },
      "execution_count": null,
      "outputs": [
        {
          "output_type": "stream",
          "name": "stdout",
          "text": [
            "array inicial :  [4.  2.2 1.2 6.  7.3 9. ]\n",
            "array final [2.2 1.2 7.3]\n"
          ]
        }
      ]
    },
    {
      "cell_type": "markdown",
      "source": [
        "Find the indices into a sorted array"
      ],
      "metadata": {
        "id": "m6_rhObVD9C_"
      }
    },
    {
      "cell_type": "code",
      "source": [
        "y = ny.array([7, 3, 6, 8, 1])\n",
        "y_index = ny.argsort(y)\n",
        "print(y_index)"
      ],
      "metadata": {
        "colab": {
          "base_uri": "https://localhost:8080/"
        },
        "id": "RbRaAqIrEg4-",
        "outputId": "4eb50027-7b69-449c-fa5d-3433bf893af5"
      },
      "execution_count": null,
      "outputs": [
        {
          "output_type": "stream",
          "name": "stdout",
          "text": [
            "[4 1 2 0 3]\n"
          ]
        }
      ]
    },
    {
      "cell_type": "markdown",
      "source": [
        ""
      ],
      "metadata": {
        "id": "NQTeAd6dHqSt"
      }
    },
    {
      "cell_type": "markdown",
      "source": [
        "# ***NumPy Mathematics***"
      ],
      "metadata": {
        "id": "P3A_7iWjHxOF"
      }
    },
    {
      "cell_type": "code",
      "source": [
        "y1 = ny.array([5, 1, 7])\n",
        "y2 = ny.array([2, 9, 6])"
      ],
      "metadata": {
        "id": "pOXe2gIWDxRV"
      },
      "execution_count": null,
      "outputs": []
    },
    {
      "cell_type": "markdown",
      "source": [
        "How to get element-wise true division of an array using Numpy?"
      ],
      "metadata": {
        "id": "xX1g3KW29h29"
      }
    },
    {
      "cell_type": "code",
      "source": [
        "y = ny.true_divide(y1, y2)\n",
        "print(y)"
      ],
      "metadata": {
        "colab": {
          "base_uri": "https://localhost:8080/"
        },
        "id": "Ia7EOuB_9614",
        "outputId": "76ca16a4-9870-4443-b7ab-f56b34e932c7"
      },
      "execution_count": 132,
      "outputs": [
        {
          "output_type": "stream",
          "name": "stdout",
          "text": [
            "[6.  1.5 1. ]\n"
          ]
        }
      ]
    },
    {
      "cell_type": "markdown",
      "source": [
        "How to calculate the element-wise absolute value of NumPy array?"
      ],
      "metadata": {
        "id": "pKnNTm4k9hvP"
      }
    },
    {
      "cell_type": "code",
      "source": [
        "ny.abs(y1)"
      ],
      "metadata": {
        "colab": {
          "base_uri": "https://localhost:8080/"
        },
        "id": "ASJdqH9697U-",
        "outputId": "c572d9ad-1d2b-4254-fb0e-3afd7cf6e35c"
      },
      "execution_count": 133,
      "outputs": [
        {
          "output_type": "execute_result",
          "data": {
            "text/plain": [
              "array([6, 3, 1])"
            ]
          },
          "metadata": {},
          "execution_count": 133
        }
      ]
    },
    {
      "cell_type": "markdown",
      "source": [
        "Compute the negative of the NumPy array"
      ],
      "metadata": {
        "id": "WBYQke789hnF"
      }
    },
    {
      "cell_type": "code",
      "source": [
        "ny.negative(y1)"
      ],
      "metadata": {
        "colab": {
          "base_uri": "https://localhost:8080/"
        },
        "id": "hm0dP3KO97mB",
        "outputId": "b62e1ce4-c3c4-4589-a5f9-99b097292b96"
      },
      "execution_count": 135,
      "outputs": [
        {
          "output_type": "execute_result",
          "data": {
            "text/plain": [
              "array([-6, -3, -1])"
            ]
          },
          "metadata": {},
          "execution_count": 135
        }
      ]
    },
    {
      "cell_type": "markdown",
      "source": [
        "Multiply 2d numpy array corresponding to 1d array"
      ],
      "metadata": {
        "id": "5ZC2DVa-9hfB"
      }
    },
    {
      "cell_type": "code",
      "source": [
        "x1 = ny.array([[5, 8, 1], [3, 6, 8], [-2, -3, -7]])\n",
        "x2 = ny.array([[5, 6, 2], [7, 4, 1], [6, -3, 0]])\n",
        "\n",
        "y = y1 * x1[:, ny.newaxis]\n",
        "print(y)"
      ],
      "metadata": {
        "colab": {
          "base_uri": "https://localhost:8080/"
        },
        "id": "6ikQcubF979Z",
        "outputId": "2e61d4de-e948-4638-e145-390227adc987"
      },
      "execution_count": 136,
      "outputs": [
        {
          "output_type": "stream",
          "name": "stdout",
          "text": [
            "[[[ 30  24   1]]\n",
            "\n",
            " [[ 18  18   8]]\n",
            "\n",
            " [[-12  -9  -7]]]\n"
          ]
        }
      ]
    },
    {
      "cell_type": "markdown",
      "source": [
        "Computes the inner product of two arrays"
      ],
      "metadata": {
        "id": "PMk52-zD9hW7"
      }
    },
    {
      "cell_type": "code",
      "source": [
        "ny.inner(y1, y2)"
      ],
      "metadata": {
        "colab": {
          "base_uri": "https://localhost:8080/"
        },
        "id": "jrM7Nqnw98XV",
        "outputId": "7c083b84-2646-44a7-c153-78856c4ec8fd"
      },
      "execution_count": 154,
      "outputs": [
        {
          "output_type": "execute_result",
          "data": {
            "text/plain": [
              "13"
            ]
          },
          "metadata": {},
          "execution_count": 154
        }
      ]
    },
    {
      "cell_type": "markdown",
      "source": [
        "Compute the nth percentile of the NumPy array"
      ],
      "metadata": {
        "id": "71lFU5kg9hO5"
      }
    },
    {
      "cell_type": "code",
      "source": [
        "ny.percentile(y1, q=70)\n"
      ],
      "metadata": {
        "colab": {
          "base_uri": "https://localhost:8080/"
        },
        "id": "b6pAQi2h98vq",
        "outputId": "8552eef5-d34e-4ca2-96f0-f61c72ff21ea"
      },
      "execution_count": 152,
      "outputs": [
        {
          "output_type": "execute_result",
          "data": {
            "text/plain": [
              "4.199999999999999"
            ]
          },
          "metadata": {},
          "execution_count": 152
        }
      ]
    },
    {
      "cell_type": "markdown",
      "source": [
        "Calculate the n-th order discrete difference along the given axis"
      ],
      "metadata": {
        "id": "wvOfSmFK9hGT"
      }
    },
    {
      "cell_type": "code",
      "source": [
        "y = ny.diff(y1, axis=0)\n",
        "print(y,'\\n')\n",
        "y = ny.diff(y1, axis=1)\n",
        "print(y)\n"
      ],
      "metadata": {
        "colab": {
          "base_uri": "https://localhost:8080/"
        },
        "id": "K9sLmPkg99LI",
        "outputId": "60416997-5066-45f5-aaef-5a6a4a6729d9"
      },
      "execution_count": 139,
      "outputs": [
        {
          "output_type": "execute_result",
          "data": {
            "text/plain": [
              "10"
            ]
          },
          "metadata": {},
          "execution_count": 139
        }
      ]
    },
    {
      "cell_type": "markdown",
      "source": [
        "Calculate the sum of all columns in a 2D NumPy array"
      ],
      "metadata": {
        "id": "R0H2E2c49g_G"
      }
    },
    {
      "cell_type": "code",
      "source": [
        "ny.sum(y1, axis=0)\n"
      ],
      "metadata": {
        "colab": {
          "base_uri": "https://localhost:8080/"
        },
        "id": "NxHfYoMu99eG",
        "outputId": "7f4d2e90-4282-43f8-952f-782e23a098c7"
      },
      "execution_count": 141,
      "outputs": [
        {
          "output_type": "stream",
          "name": "stdout",
          "text": [
            "[3.5 2.5 1. ]\n"
          ]
        }
      ]
    },
    {
      "cell_type": "markdown",
      "source": [
        "Calculate average values of two given NumPy arrays"
      ],
      "metadata": {
        "id": "-dSi6WbDH2zA"
      }
    },
    {
      "cell_type": "code",
      "source": [
        "xx = (y1 + y2) / 2\n",
        "print(xx)\n"
      ],
      "metadata": {
        "colab": {
          "base_uri": "https://localhost:8080/"
        },
        "id": "_Zlr6L0r991n",
        "outputId": "82904f16-fce8-4da2-f02a-91c811a20582"
      },
      "execution_count": 142,
      "outputs": [
        {
          "output_type": "execute_result",
          "data": {
            "text/plain": [
              "array([-6, -3, -1])"
            ]
          },
          "metadata": {},
          "execution_count": 142
        }
      ]
    },
    {
      "cell_type": "markdown",
      "source": [
        "How to compute numerical negative value for all elements in a given NumPy array?"
      ],
      "metadata": {
        "id": "YY51bL0UH2wt"
      }
    },
    {
      "cell_type": "code",
      "source": [
        "ny.negative(y1)\n"
      ],
      "metadata": {
        "colab": {
          "base_uri": "https://localhost:8080/"
        },
        "id": "cFDpALDz9-M5",
        "outputId": "43912be3-4bd5-4002-9646-57ab8c94f072"
      },
      "execution_count": 143,
      "outputs": [
        {
          "output_type": "stream",
          "name": "stdout",
          "text": [
            "[[ 3.  2.]\n",
            " [ 9. -7.]] \n",
            "\n",
            " [[ 4.  3.]\n",
            " [10. -6.]] \n",
            "\n",
            " [[ 3.  2.]\n",
            " [ 9. -6.]]\n"
          ]
        }
      ]
    },
    {
      "cell_type": "markdown",
      "source": [
        "How to get the floor, ceiling and truncated values of the elements of a numpy array?"
      ],
      "metadata": {
        "id": "4W8RQStDH2uG"
      }
    },
    {
      "cell_type": "code",
      "source": [
        "y = ny.array([[3.4, 2.7], [9.2, -6.2]])\n",
        "flo = ny.floor(y)\n",
        "cei = ny.ceil(y)\n",
        "trun = ny.trunc(y)\n",
        "\n",
        "print(flo, '\\n\\n', cei, '\\n\\n', trun)\n"
      ],
      "metadata": {
        "colab": {
          "base_uri": "https://localhost:8080/"
        },
        "id": "SwQUgL429-eZ",
        "outputId": "98b0810f-2f6f-40be-b89b-045593a9c931"
      },
      "execution_count": 144,
      "outputs": [
        {
          "output_type": "execute_result",
          "data": {
            "text/plain": [
              "array([[ 3.,  3.],\n",
              "       [ 9., -6.]])"
            ]
          },
          "metadata": {},
          "execution_count": 144
        }
      ]
    },
    {
      "cell_type": "markdown",
      "source": [
        "How to round elements of the NumPy array to the nearest integer?"
      ],
      "metadata": {
        "id": "Efvt5mWzH2rx"
      }
    },
    {
      "cell_type": "code",
      "source": [
        "ny.round(y)"
      ],
      "metadata": {
        "colab": {
          "base_uri": "https://localhost:8080/"
        },
        "id": "Xi7ps9qC9-wU",
        "outputId": "bde364d9-5e2b-40cd-9f53-ab01ec776967"
      },
      "execution_count": 145,
      "outputs": [
        {
          "output_type": "stream",
          "name": "stderr",
          "text": [
            "/usr/local/lib/python3.7/dist-packages/ipykernel_launcher.py:1: RuntimeWarning: invalid value encountered in sqrt\n",
            "  \"\"\"Entry point for launching an IPython kernel.\n"
          ]
        },
        {
          "output_type": "execute_result",
          "data": {
            "text/plain": [
              "array([[1.84390889, 1.64316767],\n",
              "       [3.03315018,        nan]])"
            ]
          },
          "metadata": {},
          "execution_count": 145
        }
      ]
    },
    {
      "cell_type": "markdown",
      "source": [
        "Find the round off the values of the given matrix"
      ],
      "metadata": {
        "id": "2ycII97TH2pO"
      }
    },
    {
      "cell_type": "code",
      "source": [
        "y.round()"
      ],
      "metadata": {
        "colab": {
          "base_uri": "https://localhost:8080/"
        },
        "id": "xEkHKWz49_IQ",
        "outputId": "557d9218-859b-4620-e3a0-a301b8546350"
      },
      "execution_count": 153,
      "outputs": [
        {
          "output_type": "execute_result",
          "data": {
            "text/plain": [
              "array([[ 3.,  3.],\n",
              "       [ 9., -6.]])"
            ]
          },
          "metadata": {},
          "execution_count": 153
        }
      ]
    },
    {
      "cell_type": "markdown",
      "source": [
        "Determine the positive square-root of an array"
      ],
      "metadata": {
        "id": "wHCkti56H2mf"
      }
    },
    {
      "cell_type": "code",
      "source": [
        "ny.sqrt(ny.positive(y))"
      ],
      "metadata": {
        "colab": {
          "base_uri": "https://localhost:8080/"
        },
        "id": "ggwX3nsU9_Z1",
        "outputId": "0b535396-e399-4924-bf24-40823c6f70f6"
      },
      "execution_count": 151,
      "outputs": [
        {
          "output_type": "stream",
          "name": "stderr",
          "text": [
            "/usr/local/lib/python3.7/dist-packages/ipykernel_launcher.py:1: RuntimeWarning: invalid value encountered in sqrt\n",
            "  \"\"\"Entry point for launching an IPython kernel.\n"
          ]
        },
        {
          "output_type": "execute_result",
          "data": {
            "text/plain": [
              "array([[1.84390889, 1.64316767],\n",
              "       [3.03315018,        nan]])"
            ]
          },
          "metadata": {},
          "execution_count": 151
        }
      ]
    },
    {
      "cell_type": "markdown",
      "source": [
        "Evaluate Einstein’s summation convention of two multidimensional NumPy arrays"
      ],
      "metadata": {
        "id": "vIgZq8evH2jX"
      }
    },
    {
      "cell_type": "code",
      "source": [
        "ny.einsum('mk,kn', x1, x2)"
      ],
      "metadata": {
        "colab": {
          "base_uri": "https://localhost:8080/"
        },
        "id": "cs9L2oal9_vw",
        "outputId": "0a1f733f-3c7a-495a-d422-43232d068625"
      },
      "execution_count": 150,
      "outputs": [
        {
          "output_type": "execute_result",
          "data": {
            "text/plain": [
              "array([[ 87,  59,  18],\n",
              "       [105,  18,  12],\n",
              "       [-73,  -3,  -7]])"
            ]
          },
          "metadata": {},
          "execution_count": 150
        }
      ]
    },
    {
      "cell_type": "markdown",
      "source": [
        "# ***NumPy Statistics***"
      ],
      "metadata": {
        "id": "n0G5PAjSH4v-"
      }
    },
    {
      "cell_type": "markdown",
      "source": [
        "Compute the median of the flattened NumPy array"
      ],
      "metadata": {
        "id": "rHissK7PH9lP"
      }
    },
    {
      "cell_type": "code",
      "source": [
        "y = ny.array([8, 6, 2, 1, 9, 3, 2])\n",
        "print(\"\\narray Original:\")\n",
        "print(y)\n",
        "  \n",
        "ymed = ny.median(y)\n",
        "print(\"\\nMedian of the array that contains \\\n",
        "odd no of elements:\")\n",
        "print(ymed)"
      ],
      "metadata": {
        "colab": {
          "base_uri": "https://localhost:8080/"
        },
        "id": "RaUHfDGZOgMK",
        "outputId": "1a0eec7e-06ef-4ebf-f782-230461a44ee3"
      },
      "execution_count": 4,
      "outputs": [
        {
          "output_type": "stream",
          "name": "stdout",
          "text": [
            "\n",
            "array Original:\n",
            "[8 6 2 1 9 3 2]\n",
            "\n",
            "Median of the array that contains odd no of elements:\n",
            "3.0\n"
          ]
        }
      ]
    },
    {
      "cell_type": "markdown",
      "source": [
        "Find Mean of a List of Numpy Array"
      ],
      "metadata": {
        "id": "ILu5FQfrH9gG"
      }
    },
    {
      "cell_type": "code",
      "source": [
        "# List Initialization\n",
        "y = [ny.array([2, 6, 1]),\n",
        "         ny.array([40, 15, 2]),\n",
        "         ny.array([1, 1, 1])]\n",
        "  \n",
        "# Output list initialization\n",
        "Output = []\n",
        "  \n",
        "# using np.mean()\n",
        "for i in range(len(y)):\n",
        "   Output.append(ny.mean(y[i]))\n",
        "  \n",
        "# Printing output\n",
        "print(Output)"
      ],
      "metadata": {
        "colab": {
          "base_uri": "https://localhost:8080/"
        },
        "id": "XUQSnl2UOgff",
        "outputId": "005c2a55-a3a7-4881-e968-fd0523192e20"
      },
      "execution_count": 6,
      "outputs": [
        {
          "output_type": "stream",
          "name": "stdout",
          "text": [
            "[3.0, 19.0, 1.0]\n"
          ]
        }
      ]
    },
    {
      "cell_type": "markdown",
      "source": [
        "Calculate the mean of array ignoring the NaN value"
      ],
      "metadata": {
        "id": "uL3I7nOqH9dq"
      }
    },
    {
      "cell_type": "code",
      "source": [
        "y = ny.array([[2, 5, 7], [7, 3, ny.nan]])\n",
        "   \n",
        "print(\"Shape:\", y.shape)\n",
        "   \n",
        "print(\"Mean of array without using nanmean function:\",\n",
        "                                           ny.mean(y))\n",
        "   \n",
        "print(\"Using nanmean function:\", ny.nanmean(y))"
      ],
      "metadata": {
        "colab": {
          "base_uri": "https://localhost:8080/"
        },
        "id": "wgfawosOOg2h",
        "outputId": "f10e0a30-ad34-4ba7-a6ac-fefde6f005a0"
      },
      "execution_count": 7,
      "outputs": [
        {
          "output_type": "stream",
          "name": "stdout",
          "text": [
            "Shape: (2, 3)\n",
            "Mean of array without using nanmean function: nan\n",
            "Using nanmean function: 4.8\n"
          ]
        }
      ]
    },
    {
      "cell_type": "markdown",
      "source": [
        "Get the mean value from given matrix"
      ],
      "metadata": {
        "id": "jpOG5jmBH9YG"
      }
    },
    {
      "cell_type": "code",
      "source": [
        "y = ny.array([[2, 5, 7], [7, 3, 5]])\n",
        "ny.mean(y)"
      ],
      "metadata": {
        "colab": {
          "base_uri": "https://localhost:8080/"
        },
        "id": "HRhvMKcVOXL6",
        "outputId": "4ed6fd15-4ee1-4b76-d588-cc254aa46ff3"
      },
      "execution_count": 9,
      "outputs": [
        {
          "output_type": "execute_result",
          "data": {
            "text/plain": [
              "4.833333333333333"
            ]
          },
          "metadata": {},
          "execution_count": 9
        }
      ]
    },
    {
      "cell_type": "markdown",
      "source": [
        "Compute the variance of the NumPy array"
      ],
      "metadata": {
        "id": "Bi7BqZGSH9VG"
      }
    },
    {
      "cell_type": "code",
      "source": [
        "y = ny.array([[2, 5, 7], [7, 3, 5]])\n",
        "ny.var(y)"
      ],
      "metadata": {
        "colab": {
          "base_uri": "https://localhost:8080/"
        },
        "id": "Y5whoPzKOhrW",
        "outputId": "077b03c7-1b34-4d63-8c64-2a1342af211b"
      },
      "execution_count": 12,
      "outputs": [
        {
          "output_type": "execute_result",
          "data": {
            "text/plain": [
              "3.4722222222222228"
            ]
          },
          "metadata": {},
          "execution_count": 12
        }
      ]
    },
    {
      "cell_type": "markdown",
      "source": [
        "Compute the standard deviation of the NumPy array"
      ],
      "metadata": {
        "id": "0VY0_3grH9SW"
      }
    },
    {
      "cell_type": "code",
      "source": [
        "y = ny.array([[2, 5, 7], [7, 3, 5]])\n",
        "ny.std(y)"
      ],
      "metadata": {
        "colab": {
          "base_uri": "https://localhost:8080/"
        },
        "id": "irdqsQBMOiHU",
        "outputId": "fab58a7e-053d-4ed9-87f5-438df05617ab"
      },
      "execution_count": 13,
      "outputs": [
        {
          "output_type": "execute_result",
          "data": {
            "text/plain": [
              "1.863389981249825"
            ]
          },
          "metadata": {},
          "execution_count": 13
        }
      ]
    },
    {
      "cell_type": "markdown",
      "source": [
        "Compute pearson product-moment correlation coefficients of two given NumPy arrays"
      ],
      "metadata": {
        "id": "Wjtg1kNlOYw0"
      }
    },
    {
      "cell_type": "code",
      "source": [
        "y1 = ny.array([8, 6, 1])\n",
        "y2 = ny.array([6, 2, 5])\n",
        "  \n",
        "\n",
        "resultado = ny.corrcoef(y1, y2)\n",
        "  \n",
        "print(resultado)"
      ],
      "metadata": {
        "colab": {
          "base_uri": "https://localhost:8080/"
        },
        "id": "unweSbA4OiqU",
        "outputId": "853d9495-55c6-4ae1-c79d-cd1b0a2b40ce"
      },
      "execution_count": 14,
      "outputs": [
        {
          "output_type": "stream",
          "name": "stdout",
          "text": [
            "[[1. 0.]\n",
            " [0. 1.]]\n"
          ]
        }
      ]
    },
    {
      "cell_type": "markdown",
      "source": [
        "Calculate the mean across dimension in a 2D NumPy array"
      ],
      "metadata": {
        "id": "_VAa9pb_OYnR"
      }
    },
    {
      "cell_type": "code",
      "source": [
        "\n",
        "arr = ny.array([[1, 2, 3], [4, 5, 6], [7, 8, 9]])\n",
        "  \n",
        "\n",
        "row_mean = ny.mean(arr, axis=1)\n",
        "  \n",
        "row1_mean = row_mean[0]\n",
        "print(\"Mean of Row 1 is\", row1_mean)\n",
        "  \n",
        "row2_mean = row_mean[1]\n",
        "print(\"Mean of Row 2 is\", row2_mean)\n",
        "  \n",
        "row3_mean = row_mean[2]\n",
        "print(\"Mean of Row 3 is\", row3_mean)\n",
        "  \n",
        "  \n",
        "\n",
        "column_mean = ny.mean(arr, axis=0)\n",
        "  \n",
        "column1_mean = column_mean[0]\n",
        "print(\"Mean of column 1 is\", column1_mean)\n",
        "  \n",
        "column2_mean = column_mean[1]\n",
        "print(\"Mean of column 2 is\", column2_mean)\n",
        "  \n",
        "column3_mean = column_mean[2]\n",
        "print(\"Mean of column 3 is\", column3_mean)"
      ],
      "metadata": {
        "colab": {
          "base_uri": "https://localhost:8080/"
        },
        "id": "9MfvESH9OjDx",
        "outputId": "0cffbe72-8733-4e91-9a82-b1f6a5e812bd"
      },
      "execution_count": 16,
      "outputs": [
        {
          "output_type": "stream",
          "name": "stdout",
          "text": [
            "Mean of Row 1 is 2.0\n",
            "Mean of Row 2 is 5.0\n",
            "Mean of Row 3 is 8.0\n",
            "Mean of column 1 is 4.0\n",
            "Mean of column 2 is 5.0\n",
            "Mean of column 3 is 6.0\n"
          ]
        }
      ]
    },
    {
      "cell_type": "markdown",
      "source": [
        "Calculate the average, variance and standard deviation in Python using NumPy"
      ],
      "metadata": {
        "id": "AK7QbLgGOYeO"
      }
    },
    {
      "cell_type": "code",
      "source": [
        "\n",
        "lis = [1, 6, 3, 4, 8, 3, 6, 4]\n",
        " \n",
        "print(ny.average(lis))\n",
        "print(\"\\n\")\n",
        "print(ny.var(lis))\n",
        "print(\"\\n\")\n",
        "print(ny.std(lis))"
      ],
      "metadata": {
        "colab": {
          "base_uri": "https://localhost:8080/"
        },
        "id": "bu9DUtVPOjrb",
        "outputId": "6b712269-1195-456f-9835-0ab26256f0df"
      },
      "execution_count": 21,
      "outputs": [
        {
          "output_type": "stream",
          "name": "stdout",
          "text": [
            "4.375\n",
            "\n",
            "\n",
            "4.234375\n",
            "\n",
            "\n",
            "2.057759704144291\n"
          ]
        }
      ]
    },
    {
      "cell_type": "markdown",
      "source": [
        "Describe a NumPy Array in Python"
      ],
      "metadata": {
        "id": "Jh7Ttk91OYU2"
      }
    },
    {
      "cell_type": "code",
      "source": [
        "\n",
        "arr = ny.array([3, 1, 6, 8, 2, 3,\n",
        "                4, 6, 3, 7, 1])\n",
        " \n",
        "# measures of dispersion\n",
        "min = ny.amin(arr)\n",
        "max = ny.amax(arr)\n",
        "range = ny.ptp(arr)\n",
        "variance = ny.var(arr)\n",
        "sd = ny.std(arr)\n",
        " \n",
        "print(\"Array =\", arr)\n",
        "print(\"Measures of Dispersion\")\n",
        "print(\"Minimum =\", min)\n",
        "print(\"Maximum =\", max)\n",
        "print(\"Range =\", range)\n",
        "print(\"Variance =\", variance)\n",
        "print(\"Standard Deviation =\", sd)"
      ],
      "metadata": {
        "colab": {
          "base_uri": "https://localhost:8080/"
        },
        "id": "GOPl9xKaOkDh",
        "outputId": "4729dc9e-40df-4d51-8972-63a6720ee5f1"
      },
      "execution_count": 23,
      "outputs": [
        {
          "output_type": "stream",
          "name": "stdout",
          "text": [
            "Array = [3 1 6 8 2 3 4 6 3 7 1]\n",
            "Measures of Dispersion\n",
            "Minimum = 1\n",
            "Maximum = 8\n",
            "Range = 7\n",
            "Variance = 5.2727272727272725\n",
            "Standard Deviation = 2.2962419891481978\n"
          ]
        }
      ]
    },
    {
      "cell_type": "markdown",
      "source": [
        "# ***NumPy Polynomial***"
      ],
      "metadata": {
        "id": "HPAzgZ7PSlWk"
      }
    },
    {
      "cell_type": "markdown",
      "source": [
        "Define a polynomial function"
      ],
      "metadata": {
        "id": "tKejmVsSSp7J"
      }
    },
    {
      "cell_type": "code",
      "source": [
        "px = ny.poly1d([6,-3, 1])\n",
        "qx = ny.poly1d([8,-5,3])\n",
        "print(px)\n",
        "print(qx)"
      ],
      "metadata": {
        "colab": {
          "base_uri": "https://localhost:8080/"
        },
        "id": "NjmKb1eDVfHQ",
        "outputId": "5696d97b-cf94-43ae-cb3e-b5bc56538361"
      },
      "execution_count": 40,
      "outputs": [
        {
          "output_type": "stream",
          "name": "stdout",
          "text": [
            "   2\n",
            "6 x - 3 x + 1\n",
            "   2\n",
            "8 x - 5 x + 3\n"
          ]
        }
      ]
    },
    {
      "cell_type": "markdown",
      "source": [
        "How to add one polynomial to another using NumPy in Python?"
      ],
      "metadata": {
        "id": "Z6vHKCoCSp40"
      }
    },
    {
      "cell_type": "code",
      "source": [
        "\n",
        "rx = ny.polynomial.polynomial.polyadd(px,qx)\n",
        "  \n",
        "print(rx)"
      ],
      "metadata": {
        "colab": {
          "base_uri": "https://localhost:8080/"
        },
        "id": "vmypBae8S-3N",
        "outputId": "1b656dc4-9515-47f7-9838-aea980c7076e"
      },
      "execution_count": 42,
      "outputs": [
        {
          "output_type": "stream",
          "name": "stdout",
          "text": [
            "[14. -8.  4.]\n"
          ]
        }
      ]
    },
    {
      "cell_type": "markdown",
      "source": [
        "How to subtract one polynomial to another using NumPy in Python?"
      ],
      "metadata": {
        "id": "RU8rwZOmSp2i"
      }
    },
    {
      "cell_type": "code",
      "source": [
        "\n",
        "rx = ny.polynomial.polynomial.polysub(px,qx)\n",
        "  \n",
        "print(rx)"
      ],
      "metadata": {
        "colab": {
          "base_uri": "https://localhost:8080/"
        },
        "id": "WBeKs0WtS_Wo",
        "outputId": "307d39a4-48f9-4054-e661-725bb142bb60"
      },
      "execution_count": 43,
      "outputs": [
        {
          "output_type": "stream",
          "name": "stdout",
          "text": [
            "[-2.  2. -2.]\n"
          ]
        }
      ]
    },
    {
      "cell_type": "markdown",
      "source": [
        "How to multiply a polynomial to another using NumPy in Python?"
      ],
      "metadata": {
        "id": "1W-f0e4mSp0T"
      }
    },
    {
      "cell_type": "code",
      "source": [
        "\n",
        "  \n",
        "rx = ny.polynomial.polynomial.polymul(px,qx)\n",
        "  \n",
        "print(rx)"
      ],
      "metadata": {
        "colab": {
          "base_uri": "https://localhost:8080/"
        },
        "id": "NB1gJ5bES_vs",
        "outputId": "7661420a-f584-4f07-ef2b-30e40f27b809"
      },
      "execution_count": 44,
      "outputs": [
        {
          "output_type": "stream",
          "name": "stdout",
          "text": [
            "[ 48. -54.  41. -14.   3.]\n"
          ]
        }
      ]
    },
    {
      "cell_type": "markdown",
      "source": [
        "How to divide a polynomial to another using NumPy in Python?"
      ],
      "metadata": {
        "id": "SjTPeRF4Spx_"
      }
    },
    {
      "cell_type": "code",
      "source": [
        "\n",
        "gx, rx = ny.polynomial.polynomial.polydiv(px,qx)\n",
        "  \n",
        "print(gx)\n",
        "print(rx)"
      ],
      "metadata": {
        "colab": {
          "base_uri": "https://localhost:8080/"
        },
        "id": "VOExMGf3TADj",
        "outputId": "7a19bcb1-04f6-4aed-e39e-48f6b2f5d549"
      },
      "execution_count": 45,
      "outputs": [
        {
          "output_type": "stream",
          "name": "stdout",
          "text": [
            "[0.33333333]\n",
            "[ 3.33333333 -1.33333333]\n"
          ]
        }
      ]
    },
    {
      "cell_type": "markdown",
      "source": [
        "Find the roots of the polynomials using NumPy"
      ],
      "metadata": {
        "id": "XTEPcALTSpvl"
      }
    },
    {
      "cell_type": "code",
      "source": [
        "roots = [2, 6, -4]\n",
        "print(ny.roots(roots))"
      ],
      "metadata": {
        "colab": {
          "base_uri": "https://localhost:8080/"
        },
        "id": "U9xOXlL_TAdG",
        "outputId": "7d264c2a-2065-4606-da3c-1cde6146a31e"
      },
      "execution_count": 31,
      "outputs": [
        {
          "output_type": "stream",
          "name": "stdout",
          "text": [
            "[-3.56155281  0.56155281]\n"
          ]
        }
      ]
    },
    {
      "cell_type": "markdown",
      "source": [
        "Evaluate a 2-D polynomial series on the Cartesian product"
      ],
      "metadata": {
        "id": "C-n9fymASptR"
      }
    },
    {
      "cell_type": "code",
      "source": [
        "y = ny.array([[6, 2], [5, 8]])\n",
        "d = ny.polynomial.polynomial.polygrid2d([1,2],[1,2], y)\n",
        "print(d)"
      ],
      "metadata": {
        "colab": {
          "base_uri": "https://localhost:8080/"
        },
        "id": "35XLS-tfTAv-",
        "outputId": "41b32a4f-3b10-4c53-cf7f-8f4100b8b1fd"
      },
      "execution_count": 33,
      "outputs": [
        {
          "output_type": "stream",
          "name": "stdout",
          "text": [
            "[[21. 31.]\n",
            " [34. 52.]]\n"
          ]
        }
      ]
    },
    {
      "cell_type": "markdown",
      "source": [
        "Evaluate a 3-D polynomial series on the Cartesian product"
      ],
      "metadata": {
        "id": "weLYzSgaSpq_"
      }
    },
    {
      "cell_type": "code",
      "source": [
        "y = ny.arange(8).reshape(2, 2, 2)\n",
        "d = ny.polynomial.polynomial.polygrid3d([1,2],[1,2], [1,2], y)\n",
        "print(d)"
      ],
      "metadata": {
        "colab": {
          "base_uri": "https://localhost:8080/"
        },
        "id": "Oh_MsK03TBHC",
        "outputId": "e00ff22c-4b75-4b96-cdd1-fc8b60988120"
      },
      "execution_count": 38,
      "outputs": [
        {
          "output_type": "stream",
          "name": "stdout",
          "text": [
            "[[[ 28.  44.]\n",
            "  [ 46.  72.]]\n",
            "\n",
            " [[ 50.  78.]\n",
            "  [ 81. 126.]]]\n"
          ]
        }
      ]
    },
    {
      "cell_type": "markdown",
      "source": [
        "# ***NumPy Strings***"
      ],
      "metadata": {
        "id": "qLOX5HW_Xle_"
      }
    },
    {
      "cell_type": "markdown",
      "source": [
        "Repeat all the elements of a NumPy array of strings"
      ],
      "metadata": {
        "id": "eDOX2hjPXwve"
      }
    },
    {
      "cell_type": "code",
      "source": [
        "y = ny.array(['oi', 'tchau', 'alo', 'bye', 'oxe'])\n",
        "print(y)\n",
        "print(\"\\n\")\n",
        "\n",
        "yreap = ny.char.multiply(y, 6)\n",
        "print(yreap)"
      ],
      "metadata": {
        "colab": {
          "base_uri": "https://localhost:8080/"
        },
        "id": "rbf0NjlEYhEy",
        "outputId": "28b27d3d-7228-4900-9138-639f18f5b8da"
      },
      "execution_count": 49,
      "outputs": [
        {
          "output_type": "stream",
          "name": "stdout",
          "text": [
            "['oi' 'tchau' 'alo' 'bye' 'oxe']\n",
            "\n",
            "\n",
            "['oioioioioioi' 'tchautchautchautchautchautchau' 'aloaloaloaloaloalo'\n",
            " 'byebyebyebyebyebye' 'oxeoxeoxeoxeoxeoxe']\n"
          ]
        }
      ]
    },
    {
      "cell_type": "markdown",
      "source": [
        "How to split the element of a given NumPy array with spaces?"
      ],
      "metadata": {
        "id": "uh5qb0L-Xwoh"
      }
    },
    {
      "cell_type": "code",
      "source": [
        "ya = ny.array('oi tchau bye oxe')\n",
        "ysepa = ny.char.split(ya)\n",
        "print(ysepa)"
      ],
      "metadata": {
        "colab": {
          "base_uri": "https://localhost:8080/"
        },
        "id": "NLaGOmbgYhfP",
        "outputId": "c66a1173-81eb-43df-e518-d78992feb9d0"
      },
      "execution_count": 53,
      "outputs": [
        {
          "output_type": "stream",
          "name": "stdout",
          "text": [
            "['oi', 'tchau', 'bye', 'oxe']\n"
          ]
        }
      ]
    },
    {
      "cell_type": "markdown",
      "source": [
        "How to insert a space between characters of all the elements of a given NumPy array?"
      ],
      "metadata": {
        "id": "SMFyOAlRXwgF"
      }
    },
    {
      "cell_type": "code",
      "source": [
        "yinsert = ny.char.join(' ', y)\n",
        "print(yinsert)"
      ],
      "metadata": {
        "colab": {
          "base_uri": "https://localhost:8080/"
        },
        "id": "0qYK1YMaYhz6",
        "outputId": "c442a5da-8042-4d01-e414-e2f9bb98a962"
      },
      "execution_count": 54,
      "outputs": [
        {
          "output_type": "stream",
          "name": "stdout",
          "text": [
            "o i   t c h a u   b y e   o x e\n"
          ]
        }
      ]
    },
    {
      "cell_type": "markdown",
      "source": [
        "Find the length of each string element in the Numpy array"
      ],
      "metadata": {
        "id": "pGRMMauvXwWy"
      }
    },
    {
      "cell_type": "code",
      "source": [
        "ytamanho = ny.char.str_len(y)\n",
        "print(ytamanho)"
      ],
      "metadata": {
        "colab": {
          "base_uri": "https://localhost:8080/"
        },
        "id": "8G_zQ9MgYiGE",
        "outputId": "8b9982f0-7457-4520-ac2a-6367d70183bf"
      },
      "execution_count": 55,
      "outputs": [
        {
          "output_type": "stream",
          "name": "stdout",
          "text": [
            "16\n"
          ]
        }
      ]
    },
    {
      "cell_type": "markdown",
      "source": [
        "Swap the case of an array of string"
      ],
      "metadata": {
        "id": "5VCft5nPXwOt"
      }
    },
    {
      "cell_type": "code",
      "source": [
        "ymin = ny.char.swapcase(y)\n",
        "print(ymin)"
      ],
      "metadata": {
        "colab": {
          "base_uri": "https://localhost:8080/"
        },
        "id": "mtdEwSsUYidg",
        "outputId": "2ff69aae-5e3f-4fbd-b583-47a380994bb6"
      },
      "execution_count": 56,
      "outputs": [
        {
          "output_type": "stream",
          "name": "stdout",
          "text": [
            "OI TCHAU BYE OXE\n"
          ]
        }
      ]
    },
    {
      "cell_type": "markdown",
      "source": [
        "Change the case to uppercase of elements of an array"
      ],
      "metadata": {
        "id": "geqbLCRfXwJG"
      }
    },
    {
      "cell_type": "code",
      "source": [
        "ymai = ny.char.upper(y)\n",
        "print(ymai)"
      ],
      "metadata": {
        "colab": {
          "base_uri": "https://localhost:8080/"
        },
        "id": "LxmGkxtaYjI2",
        "outputId": "a4ba0fa0-4427-4335-b99b-9be8f769b619"
      },
      "execution_count": 57,
      "outputs": [
        {
          "output_type": "stream",
          "name": "stdout",
          "text": [
            "OI TCHAU BYE OXE\n"
          ]
        }
      ]
    },
    {
      "cell_type": "markdown",
      "source": [
        "Change the case to lowercase of elements of an array"
      ],
      "metadata": {
        "id": "Ia10989yXr0t"
      }
    },
    {
      "cell_type": "code",
      "source": [
        "yminu = ny.char.lower(y)\n",
        "print(yminu)"
      ],
      "metadata": {
        "colab": {
          "base_uri": "https://localhost:8080/"
        },
        "id": "jlBn2hJ6YjgK",
        "outputId": "c3bbee5a-4683-44d1-e4af-15a72f93b002"
      },
      "execution_count": 59,
      "outputs": [
        {
          "output_type": "stream",
          "name": "stdout",
          "text": [
            "oi tchau bye oxe\n"
          ]
        }
      ]
    },
    {
      "cell_type": "markdown",
      "source": [
        "Join String by a seperator"
      ],
      "metadata": {
        "id": "YzetHAwTXryR"
      }
    },
    {
      "cell_type": "code",
      "source": [
        "separray = ny.array([','])\n",
        "ysepara= ny.char.join(separray, y)\n",
        "print(ysepara) "
      ],
      "metadata": {
        "colab": {
          "base_uri": "https://localhost:8080/"
        },
        "id": "qE_L3lygYj8M",
        "outputId": "9623cdd9-29e8-4114-f73c-04d8fab6324e"
      },
      "execution_count": 68,
      "outputs": [
        {
          "output_type": "stream",
          "name": "stdout",
          "text": [
            "['o,i, ,t,c,h,a,u, ,b,y,e, ,o,x,e']\n"
          ]
        }
      ]
    },
    {
      "cell_type": "markdown",
      "source": [
        "Check if two same shaped string arrayss one by one"
      ],
      "metadata": {
        "id": "4BernfJ8Xrv3"
      }
    },
    {
      "cell_type": "code",
      "source": [
        "ny.array_equal(y, yminu)"
      ],
      "metadata": {
        "colab": {
          "base_uri": "https://localhost:8080/"
        },
        "id": "qJOPJTDBYkPz",
        "outputId": "f1664164-02eb-4187-a3a3-411fea0acbbf"
      },
      "execution_count": 69,
      "outputs": [
        {
          "output_type": "execute_result",
          "data": {
            "text/plain": [
              "True"
            ]
          },
          "metadata": {},
          "execution_count": 69
        }
      ]
    },
    {
      "cell_type": "markdown",
      "source": [
        "Count the number of substrings in an array"
      ],
      "metadata": {
        "id": "9KZyw4S9XrtU"
      }
    },
    {
      "cell_type": "code",
      "source": [
        "count= ny.char.count(y, 'ch')\n",
        "print(count)"
      ],
      "metadata": {
        "colab": {
          "base_uri": "https://localhost:8080/"
        },
        "id": "MRnvAE-vYkhG",
        "outputId": "d743f777-fa6b-43bb-8603-909f7cdbe7ab"
      },
      "execution_count": 70,
      "outputs": [
        {
          "output_type": "stream",
          "name": "stdout",
          "text": [
            "1\n"
          ]
        }
      ]
    },
    {
      "cell_type": "markdown",
      "source": [
        "Find the lowest index of the substring in an array"
      ],
      "metadata": {
        "id": "S2So0Lk8Xrq0"
      }
    },
    {
      "cell_type": "code",
      "source": [
        "index = ny.char.find(y, 'ch').argmin()\n",
        "print(index)"
      ],
      "metadata": {
        "colab": {
          "base_uri": "https://localhost:8080/"
        },
        "id": "HpWlNf1sYkx6",
        "outputId": "e79c6dcb-2a56-413d-da00-47449456123e"
      },
      "execution_count": 71,
      "outputs": [
        {
          "output_type": "stream",
          "name": "stdout",
          "text": [
            "0\n"
          ]
        }
      ]
    },
    {
      "cell_type": "markdown",
      "source": [
        "Get the boolean array when values end with a particular character"
      ],
      "metadata": {
        "id": "sXigVUm4XroH"
      }
    },
    {
      "cell_type": "code",
      "source": [
        "y = ny.char.endswith(y, 'ch')\n",
        "print(y)"
      ],
      "metadata": {
        "colab": {
          "base_uri": "https://localhost:8080/"
        },
        "id": "J0rEfurnYlV1",
        "outputId": "0366c81c-ea09-425b-e6ed-ae48a6258b74"
      },
      "execution_count": 72,
      "outputs": [
        {
          "output_type": "stream",
          "name": "stdout",
          "text": [
            "False\n"
          ]
        }
      ]
    },
    {
      "cell_type": "markdown",
      "source": [
        "# ***More Questions on NumPy***"
      ],
      "metadata": {
        "id": "Rcy3oocBbyBm"
      }
    },
    {
      "cell_type": "markdown",
      "source": [
        "Different ways to convert a Python dictionary to a NumPy array"
      ],
      "metadata": {
        "id": "XMJbbrvVb4ww"
      }
    },
    {
      "cell_type": "code",
      "source": [
        ""
      ],
      "metadata": {
        "id": "F7AZQ7BHd2cA"
      },
      "execution_count": null,
      "outputs": []
    },
    {
      "cell_type": "markdown",
      "source": [
        "How to convert a list and tuple into NumPy arrays?"
      ],
      "metadata": {
        "id": "UohbZMMXb4ou"
      }
    },
    {
      "cell_type": "code",
      "source": [
        "# list\n",
        "l1 = [6, 2, 1, 9]\n",
        "print(type(l1))\n",
        "print(l1)\n",
        "print()\n",
        "  \n",
        "# conversion\n",
        "y = ny.asarray(l1)\n",
        "print(type(y))\n",
        "print(y)\n",
        "print()\n",
        "  \n",
        "# tuple\n",
        "t1 = ([6, 2, 3], [1, 6, 3])\n",
        "print(type(t1))\n",
        "print(t1)\n",
        "print()\n",
        "  \n",
        "# conversion\n",
        "y2 = ny.asarray(t1)\n",
        "print(type(y2))\n",
        "print(y2)"
      ],
      "metadata": {
        "colab": {
          "base_uri": "https://localhost:8080/"
        },
        "id": "n1Vmbbavd2-m",
        "outputId": "6521fa4c-f4f2-49a5-dc7e-7c76ae17877a"
      },
      "execution_count": 73,
      "outputs": [
        {
          "output_type": "stream",
          "name": "stdout",
          "text": [
            "<class 'list'>\n",
            "[6, 2, 1, 9]\n",
            "\n",
            "<class 'numpy.ndarray'>\n",
            "[6 2 1 9]\n",
            "\n",
            "<class 'tuple'>\n",
            "([6, 2, 3], [1, 6, 3])\n",
            "\n",
            "<class 'numpy.ndarray'>\n",
            "[[6 2 3]\n",
            " [1 6 3]]\n"
          ]
        }
      ]
    },
    {
      "cell_type": "markdown",
      "source": [
        "Ways to convert array of strings to array of floats"
      ],
      "metadata": {
        "id": "ZJ3GCROtb4e3"
      }
    },
    {
      "cell_type": "code",
      "source": [
        "x=ny.array(['1.1', '2.2', '3.3'])\n",
        "x=ny.asfarray(x,float)\n",
        "print(x)"
      ],
      "metadata": {
        "colab": {
          "base_uri": "https://localhost:8080/"
        },
        "id": "LHBS_hWxd3TI",
        "outputId": "9ee71456-1f0a-476e-f983-93edf049c583"
      },
      "execution_count": 77,
      "outputs": [
        {
          "output_type": "stream",
          "name": "stdout",
          "text": [
            "[1.1 2.2 3.3]\n"
          ]
        }
      ]
    },
    {
      "cell_type": "markdown",
      "source": [
        "Convert a NumPy array into a csv file"
      ],
      "metadata": {
        "id": "wNj50bpBb4XM"
      }
    },
    {
      "cell_type": "code",
      "source": [
        "import pandas as pd\n",
        "arr = ny.arange(1,11).reshape(2,5)\n",
        "  \n",
        "# display the array\n",
        "print(arr)\n",
        "  \n",
        "# convert array into dataframe\n",
        "DF = pd.DataFrame(arr)\n",
        "  \n",
        "# save the dataframe as a csv file\n",
        "DF.to_csv(\"data1.csv\")"
      ],
      "metadata": {
        "colab": {
          "base_uri": "https://localhost:8080/"
        },
        "id": "5LrjMZYyd3kd",
        "outputId": "cff720d0-934f-4ba7-80cb-79a08f175ef7"
      },
      "execution_count": 78,
      "outputs": [
        {
          "output_type": "stream",
          "name": "stdout",
          "text": [
            "[[ 1  2  3  4  5]\n",
            " [ 6  7  8  9 10]]\n"
          ]
        }
      ]
    },
    {
      "cell_type": "markdown",
      "source": [
        "How to Convert an image to NumPy array and save it to CSV file using Python?"
      ],
      "metadata": {
        "id": "wG7ujP5eb3uO"
      }
    },
    {
      "cell_type": "code",
      "source": [
        "from PIL import Image\n",
        " \n",
        "# read an image\n",
        "img = Image.open('alguma.png')\n",
        " \n",
        "# convert image object into array\n",
        "imageToMatrice = ny.asarray(img)\n",
        " \n",
        "# printing shape of image\n",
        "print(imageToMatrice.shape)"
      ],
      "metadata": {
        "colab": {
          "base_uri": "https://localhost:8080/"
        },
        "id": "kG9U4XVRd33r",
        "outputId": "7e2c3454-c63f-42e6-f3f0-575a0629535a"
      },
      "execution_count": 84,
      "outputs": [
        {
          "output_type": "stream",
          "name": "stdout",
          "text": [
            "(1024, 1920, 4)\n"
          ]
        }
      ]
    },
    {
      "cell_type": "markdown",
      "source": [
        "How to save a NumPy array to a text file?"
      ],
      "metadata": {
        "id": "9ujoFpvXb3gX"
      }
    },
    {
      "cell_type": "code",
      "source": [
        "\n",
        "List = [6, 2, 8, 3, 8]\n",
        "y = ny.array(List)\n",
        " \n",
        "\n",
        "print('Array:\\n', y)\n",
        "file = open(\"file1.txt\", \"w+\")\n",
        " \n",
        "\n",
        "content = str(y)\n",
        "file.write(content)\n",
        "file.close()\n",
        " \n",
        "\n",
        "file = open(\"file1.txt\", \"r\")\n",
        "content = file.read()\n",
        " \n",
        "print(\"\\nContent in file1.txt:\\n\", content)\n",
        "file.close()"
      ],
      "metadata": {
        "colab": {
          "base_uri": "https://localhost:8080/"
        },
        "id": "ngRzQp9gd4Jx",
        "outputId": "ca1a8b23-3662-48bf-cf8f-41ee950418b3"
      },
      "execution_count": 82,
      "outputs": [
        {
          "output_type": "stream",
          "name": "stdout",
          "text": [
            "Array:\n",
            " [6 2 8 3 8]\n",
            "\n",
            "Content in file1.txt:\n",
            " [6 2 8 3 8]\n"
          ]
        }
      ]
    },
    {
      "cell_type": "markdown",
      "source": [
        "Load data from a text file"
      ],
      "metadata": {
        "id": "-DToGIR6b3cF"
      }
    },
    {
      "cell_type": "code",
      "source": [
        "File_data = ny.loadtxt(\"file3.txt\", dtype=int)\n",
        "print(File_data)"
      ],
      "metadata": {
        "colab": {
          "base_uri": "https://localhost:8080/"
        },
        "id": "6UGHixsSd4c8",
        "outputId": "09d43f21-1fb9-467a-9a28-27598849910f"
      },
      "execution_count": 86,
      "outputs": [
        {
          "output_type": "stream",
          "name": "stdout",
          "text": [
            "[10 10 10 10 11]\n"
          ]
        }
      ]
    },
    {
      "cell_type": "markdown",
      "source": [
        "Plot line graph from NumPy array"
      ],
      "metadata": {
        "id": "7wXcI_BVb3Yv"
      }
    },
    {
      "cell_type": "code",
      "source": [
        "import matplotlib.pyplot as plt\n",
        " \n",
        "\n",
        "x = ny.arange(1, 20)\n",
        "y = x * x\n",
        " \n",
        "# plotting\n",
        "plt.title(\"Linha\")\n",
        "plt.xlabel(\"X\")\n",
        "plt.ylabel(\"Y\")\n",
        "plt.plot(x, y, color =\"brown\")\n",
        "plt.show()"
      ],
      "metadata": {
        "colab": {
          "base_uri": "https://localhost:8080/",
          "height": 0
        },
        "id": "jfPhwKJFd4wz",
        "outputId": "70a8baf5-e3e1-44e1-f36e-58d204c8cea7"
      },
      "execution_count": 90,
      "outputs": [
        {
          "output_type": "display_data",
          "data": {
            "text/plain": [
              "<Figure size 432x288 with 1 Axes>"
            ],
            "image/png": "[encoded data removed]"
          },
          "metadata": {
            "needs_background": "light"
          }
        }
      ]
    },
    {
      "cell_type": "markdown",
      "source": [
        "Create Histogram using NumPy"
      ],
      "metadata": {
        "id": "53tv79yWb3WB"
      }
    },
    {
      "cell_type": "code",
      "source": [
        "from matplotlib import pyplot as plt\n",
        " \n",
        "\n",
        "a = ny.random.randint(150, size =(150))\n",
        " \n",
        "\n",
        "fig = plt.figure(figsize =(10, 10))\n",
        " \n",
        "plt.hist(a, bins = [0, 10, 20, 30,\n",
        "                    40, 50, 60, 70,\n",
        "                    80, 90, 100])\n",
        " \n",
        "plt.title(\"Histogram\")\n",
        " \n",
        "# show plot\n",
        "plt.show()"
      ],
      "metadata": {
        "colab": {
          "base_uri": "https://localhost:8080/",
          "height": 0
        },
        "id": "3SXnysHfd5DR",
        "outputId": "789bc652-5f97-458e-f817-25665cb226a2"
      },
      "execution_count": 97,
      "outputs": [
        {
          "output_type": "display_data",
          "data": {
            "text/plain": [
              "<Figure size 720x720 with 1 Axes>"
            ],
            "image/png": "[encoded data removed]"
          },
          "metadata": {
            "needs_background": "light"
          }
        }
      ]
    }
  ]
}